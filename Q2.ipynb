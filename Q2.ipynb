{
  "cells": [
    {
      "cell_type": "markdown",
      "metadata": {
        "id": "ChC3RF8meAlK"
      },
      "source": [
        "<h1 align=\"center\">Introduction to Machine Learning - 25737-2</h1>\n",
        "<h4 align=\"center\">Dr. R. Amiri</h4>\n",
        "<h4 align=\"center\">Sharif University of Technology, Spring 2024</h4>\n",
        "\n",
        "\n",
        "**<font color='red'>Plagiarism is strongly prohibited!</font>**\n",
        "\n",
        "\n",
        "**Student Name**: Mohammad Armin Dehghan\n",
        "\n",
        "**Student ID**: 400101175\n",
        "\n",
        "\n",
        "\n"
      ]
    },
    {
      "cell_type": "markdown",
      "metadata": {
        "id": "IraiR0SbeDi_"
      },
      "source": [
        "# Logistic Regression"
      ]
    },
    {
      "cell_type": "markdown",
      "metadata": {
        "id": "nRQjwWC3eDnc"
      },
      "source": [
        "**Task:** Implement your own Logistic Regression model, and test it on the given dataset of Logistic_question.csv!"
      ]
    },
    {
      "cell_type": "code",
      "execution_count": 1,
      "metadata": {},
      "outputs": [],
      "source": [
        "import numpy as np\n",
        "import pandas as pd\n",
        "import matplotlib.pyplot as plt\n",
        "from sklearn.preprocessing import LabelEncoder\n",
        "from sklearn.model_selection import train_test_split , GridSearchCV\n",
        "from sklearn.preprocessing import StandardScaler\n",
        "from sklearn.metrics import accuracy_score, precision_score, recall_score, f1_score\n",
        "from sklearn.linear_model import LogisticRegression\n"
      ]
    },
    {
      "cell_type": "code",
      "execution_count": 2,
      "metadata": {},
      "outputs": [],
      "source": [
        "class MyLogisticRegression:\n",
        "    def __init__(self, learning_rate=0.01, epochs=100):\n",
        "        self.learning_rate = learning_rate\n",
        "        self.epochs = epochs\n",
        "        self.weights = None\n",
        "        self.bias = None\n",
        "\n",
        "    def sigmoid(self, z):\n",
        "        return 1 / (1 + np.exp(-z))\n",
        "\n",
        "    def fit(self, X, y):\n",
        "        m, n = X.shape\n",
        "        self.weights = np.zeros(n)\n",
        "        self.bias = 0\n",
        "\n",
        "        for epoch in range(self.epochs):\n",
        "            \n",
        "            linear_model = np.dot(X, self.weights) + self.bias\n",
        "            y_pred = self.sigmoid(linear_model)\n",
        "\n",
        "            dw = (1 / m) * np.dot(X.T, (y_pred - y))\n",
        "            db = (1 / m) * np.sum(y_pred - y)\n",
        "\n",
        "            self.weights -= self.learning_rate * dw\n",
        "            self.bias -= self.learning_rate * db\n",
        "\n",
        "    def predict_proba(self, X):\n",
        "        linear_model = np.dot(X, self.weights) + self.bias\n",
        "        return self.sigmoid(linear_model)\n",
        "\n",
        "    def predict(self, X, threshold=0.5):\n",
        "        probabilities = self.predict_proba(X)\n",
        "        return (probabilities >= threshold).astype(int)\n",
        "\n"
      ]
    },
    {
      "cell_type": "markdown",
      "metadata": {
        "id": "S-i-oubUlZ6e"
      },
      "source": [
        "**Task:** Test your model on the given dataset. You must split your data into train and test, with a 0.2 split, then normalize your data using X_train data. Finally, report 4 different evaluation metrics of the model on the test set. (You might want to first make the Target column binary!)"
      ]
    },
    {
      "cell_type": "code",
      "execution_count": 6,
      "metadata": {
        "colab": {
          "base_uri": "https://localhost:8080/"
        },
        "id": "0KXzIy_2u-pG",
        "outputId": "9625f7e2-abb1-4591-c0fa-843525e0ffd6"
      },
      "outputs": [
        {
          "name": "stdout",
          "output_type": "stream",
          "text": [
            "Accuracy: 0.9375\n",
            "Precision: 0.9367088607594937\n",
            "Recall: 1.0\n",
            "F1 Score: 0.9673202614379085\n"
          ]
        }
      ],
      "source": [
        "data = pd.read_csv('Logistic_question.csv')\n",
        "\n",
        "data['Target'] = data['Target'].apply(lambda x: 1 if x > 0.5 else 0)\n",
        "\n",
        "X = data.drop(columns=['Target'])\n",
        "y = data['Target']\n",
        "X_train, X_test, y_train, y_test = train_test_split(X, y, test_size=0.2, random_state=30)\n",
        "\n",
        "scaler = StandardScaler()\n",
        "X_train_scaled = scaler.fit_transform(X_train)\n",
        "X_test_scaled = scaler.transform(X_test)\n",
        "\n",
        "model = MyLogisticRegression(learning_rate=0.01, epochs=1000)\n",
        "model.fit(X_train_scaled, y_train)\n",
        "\n",
        "y_pred = model.predict(X_test_scaled)\n",
        "\n",
        "accuracy = accuracy_score(y_test, y_pred)\n",
        "precision = precision_score(y_test, y_pred)\n",
        "recall = recall_score(y_test, y_pred)\n",
        "f1 = f1_score(y_test, y_pred)\n",
        "\n",
        "print(\"Accuracy:\", accuracy)\n",
        "print(\"Precision:\", precision)\n",
        "print(\"Recall:\", recall)\n",
        "print(\"F1 Score:\", f1)"
      ]
    },
    {
      "cell_type": "markdown",
      "metadata": {
        "id": "Ji0RXNGKv1pa"
      },
      "source": [
        "**Question:** What are each of your used evaluation metrics? And for each one, mention situations in which they convey more data on the model performance in specific tasks.\n",
        "\n"
      ]
    },
    {
      "cell_type": "markdown",
      "metadata": {
        "id": "ldveD35twRRZ"
      },
      "source": [
        "**Your answer:**\n",
        "\n",
        "## Evaluation Metrics Explanation\n",
        "\n",
        "1. **Accuracy:** Accuracy is the proportion of correctly classified instances among the total instances. It's a good overall measure of model performance when the classes in the dataset are balanced. However, accuracy may not be a reliable metric when the classes are imbalanced, as it can be misleading. For example, in a spam email classification task where the majority of emails are not spam, a high accuracy may be achieved by simply classifying all emails as not spam. Therefore, accuracy alone may not provide a complete picture of model performance, especially in imbalanced datasets.\n",
        "\n",
        "2. **Precision:** Precision is the proportion of true positive predictions among all positive predictions made by the model. It indicates the model's ability to avoid false positives. Precision is particularly important in tasks where false positives are costly or undesirable. For example, in a medical diagnosis task where a false positive result could lead to unnecessary treatment or anxiety for the patient, high precision is crucial for ensuring the reliability of the model.\n",
        "\n",
        "3. **Recall:** Recall, also known as sensitivity or true positive rate, is the proportion of true positive predictions among all actual positive instances in the dataset. It measures the model's ability to capture all positive instances. Recall is important in tasks where false negatives are costly or unacceptable. For instance, in a disease detection task, a false negative result could delay necessary treatment, so high recall is essential for ensuring that all positive cases are identified.\n",
        "\n",
        "4. **F1 Score:** The F1 score is the harmonic mean of precision and recall. It provides a balance between precision and recall and is particularly useful when you want to consider both false positives and false negatives equally. The F1 score is suitable for tasks where you want to find a balance between minimizing false positives and false negatives. For example, in a text classification task where both precision and recall are important, such as sentiment analysis, the F1 score can help evaluate the overall performance of the model.\n",
        "\n",
        "In summary, each evaluation metric provides unique insights into different aspects of model performance, and the choice of metric depends on the specific task requirements and the relative importance of minimizing false positives and false negatives.\n",
        "\n"
      ]
    },
    {
      "cell_type": "markdown",
      "metadata": {
        "id": "1ZCeRHZSw-mh"
      },
      "source": [
        "**Task:** Now test the built-in function of Python for Logistic Regression, and report all the same metrics used before."
      ]
    },
    {
      "cell_type": "code",
      "execution_count": 13,
      "metadata": {
        "id": "Vb5lRSQXDLR3"
      },
      "outputs": [
        {
          "name": "stdout",
          "output_type": "stream",
          "text": [
            "Accuracy: 0.9625\n",
            "Precision: 0.9733333333333334\n",
            "Recall: 0.9864864864864865\n",
            "F1 Score: 0.9798657718120806\n"
          ]
        }
      ],
      "source": [
        "# Your code goes here!\n",
        "# Initialize and train the logistic regression model\n",
        "model = LogisticRegression()\n",
        "model.fit(X_train_scaled, y_train)\n",
        "\n",
        "y_pred = model.predict(X_test_scaled)\n",
        "\n",
        "accuracy_2 = accuracy_score(y_test, y_pred)\n",
        "precision_2 = precision_score(y_test, y_pred)\n",
        "recall_2 = recall_score(y_test, y_pred)\n",
        "f1_2 = f1_score(y_test, y_pred)\n",
        "\n",
        "print(\"Accuracy:\", accuracy_2)\n",
        "print(\"Precision:\", precision_2)\n",
        "print(\"Recall:\", recall_2)\n",
        "print(\"F1 Score:\", f1_2)"
      ]
    },
    {
      "cell_type": "markdown",
      "metadata": {
        "id": "RCvIymmMy_ji"
      },
      "source": [
        "**Question:** Compare your function with the built-in function. On the matters of performance and parameters. Briefly explain what the parameters of the built-in function are and how they affect the model's performance?"
      ]
    },
    {
      "cell_type": "markdown",
      "metadata": {
        "id": "EY0ohM16z3De"
      },
      "source": [
        "**Your answer:**\n",
        "The results of using a built-in logistic regression function are overally better . The built-in function from scikit-learn is highly optimized and written in C, so it's likely to be faster, especially for large datasets.\n",
        "\n",
        "## Parameters of Logistic Regression in Python\n",
        "\n",
        "The Python built-in function for logistic regression typically refers to the implementation provided by libraries like scikit-learn. The main parameters of logistic regression in scikit-learn's `LogisticRegression` class are as follows:\n",
        "\n",
        "1. **penalty:** This parameter specifies the type of regularization to apply. It can be set to \"l1\" for L1 regularization (lasso), \"l2\" for L2 regularization (ridge), or \"none\" for no regularization. Regularization helps prevent overfitting by penalizing large coefficients.\n",
        "\n",
        "2. **C:** The inverse of regularization strength. A smaller value of C leads to stronger regularization, while a larger value reduces the amount of regularization. Tuning this parameter allows you to control the trade-off between fitting the training data well and keeping the model simple.\n",
        "\n",
        "3. **solver:** This parameter specifies the optimization algorithm to use. Different solvers are available for logistic regression, including \"liblinear\" for small datasets, \"lbfgs\" for multiclass problems, \"newton-cg\" for multinomial logistic regression, and \"sag\" and \"saga\" for large datasets. The choice of solver can affect the convergence speed and performance of the model.\n",
        "\n",
        "4. **max_iter:** The maximum number of iterations for the optimization algorithm to converge. If the algorithm does not converge within the specified number of iterations, it stops and returns the current solution. Increasing this parameter may improve convergence but also increase computation time.\n",
        "\n",
        "5. **class_weight:** This parameter allows you to specify weights for different classes in the dataset. It is useful for handling imbalanced datasets by giving more importance to minority classes. Options include \"balanced\" to automatically adjust weights inversely proportional to class frequencies or a custom dictionary specifying class weights.\n",
        "\n",
        "These parameters affect the logistic regression model's performance in the following ways:\n",
        "\n",
        "- **Regularization (penalty and C):** By controlling the regularization strength and type, you can prevent overfitting and improve the model's generalization performance.\n",
        "- **Optimization algorithm (solver and max_iter):** The choice of optimization algorithm and the maximum number of iterations can affect the convergence speed and stability of the model. Choosing an appropriate solver and increasing the maximum number of iterations if needed can help ensure that the algorithm converges to a good solution.\n",
        "- **Class weights:** Adjusting class weights allows you to handle imbalanced datasets and give more importance to minority classes, which can improve the model's ability to correctly classify rare instances.\n",
        "\n",
        "Overall, tuning these parameters carefully based on the characteristics of the dataset and the desired model behavior is crucial for achieving optimal performance with logistic regression.\n"
      ]
    },
    {
      "cell_type": "markdown",
      "metadata": {
        "id": "ClMqoYlr2kr7"
      },
      "source": [
        "# Multinomial Logistic Regression"
      ]
    },
    {
      "cell_type": "markdown",
      "metadata": {
        "id": "ukvlqDe52xP5"
      },
      "source": [
        "**Task:** Implement your own Multinomial Logistic Regression model. Your model must be able to handle any number of labels!"
      ]
    },
    {
      "cell_type": "code",
      "execution_count": 15,
      "metadata": {},
      "outputs": [],
      "source": [
        "class MyMultinomialLogisticRegression:\n",
        "    def __init__(self, learning_rate=0.01, epochs=100):\n",
        "        self.learning_rate = learning_rate\n",
        "        self.epochs = epochs\n",
        "        self.weights = None\n",
        "        self.bias = None\n",
        "        self.num_classes = None\n",
        "\n",
        "    def softmax(self, z):\n",
        "        exp_scores = np.exp(z)\n",
        "        return exp_scores / np.sum(exp_scores, axis=1, keepdims=True)\n",
        "\n",
        "    def fit(self, X, y):\n",
        "        m, n = X.shape\n",
        "        self.num_classes = len(np.unique(y))\n",
        "        self.weights = np.zeros((n, self.num_classes))\n",
        "        self.bias = np.zeros(self.num_classes)\n",
        "\n",
        "        for epoch in range(self.epochs):\n",
        "        \n",
        "            linear_model = np.dot(X, self.weights) + self.bias\n",
        "            y_pred = self.softmax(linear_model)\n",
        "\n",
        "            error = y_pred - np.eye(self.num_classes)[y]\n",
        "            dw = (1 / m) * np.dot(X.T, error)\n",
        "            db = (1 / m) * np.sum(error, axis=0)\n",
        "\n",
        "            \n",
        "            self.weights -= self.learning_rate * dw\n",
        "            self.bias -= self.learning_rate * db\n",
        "\n",
        "    def predict_proba(self, X):\n",
        "        linear_model = np.dot(X, self.weights) + self.bias\n",
        "        return self.softmax(linear_model)\n",
        "\n",
        "    def predict(self, X):\n",
        "        probabilities = self.predict_proba(X)\n",
        "        return np.argmax(probabilities, axis=1)"
      ]
    },
    {
      "cell_type": "markdown",
      "metadata": {
        "id": "zPQ3Rtay3Y2_"
      },
      "source": [
        "**Task:** Test your model on the given dataset. Do the same as the previous part, but here you might want to first make the Target column quantized into $i$ levels. Change $i$ from 2 to 10."
      ]
    },
    {
      "cell_type": "code",
      "execution_count": 22,
      "metadata": {
        "id": "9aP4QJPq29B3"
      },
      "outputs": [
        {
          "name": "stdout",
          "output_type": "stream",
          "text": [
            "Quantization Levels: 2\n",
            "Accuracy: 0.9500\n",
            "Precision: 0.9513\n",
            "Recall: 0.9500\n",
            "F1-score: 0.9501\n",
            "\n",
            "Quantization Levels: 3\n",
            "Accuracy: 0.7500\n",
            "Precision: 0.8155\n",
            "Recall: 0.7500\n",
            "F1-score: 0.6648\n",
            "\n",
            "Quantization Levels: 4\n",
            "Accuracy: 0.7625\n",
            "Precision: 0.8290\n",
            "Recall: 0.7625\n",
            "F1-score: 0.7230\n",
            "\n",
            "Quantization Levels: 5\n",
            "Accuracy: 0.4875\n",
            "Precision: 0.3193\n",
            "Recall: 0.4875\n",
            "F1-score: 0.3711\n",
            "\n",
            "Quantization Levels: 6\n",
            "Accuracy: 0.4875\n",
            "Precision: 0.4701\n",
            "Recall: 0.4875\n",
            "F1-score: 0.3811\n",
            "\n",
            "Quantization Levels: 7\n",
            "Accuracy: 0.3875\n",
            "Precision: 0.2194\n",
            "Recall: 0.3875\n",
            "F1-score: 0.2359\n",
            "\n",
            "Quantization Levels: 8\n",
            "Accuracy: 0.3750\n",
            "Precision: 0.4598\n",
            "Recall: 0.3750\n",
            "F1-score: 0.2593\n",
            "\n",
            "Quantization Levels: 9\n",
            "Accuracy: 0.3000\n",
            "Precision: 0.1063\n",
            "Recall: 0.3000\n",
            "F1-score: 0.1569\n",
            "\n",
            "Quantization Levels: 10\n",
            "Accuracy: 0.2750\n",
            "Precision: 0.2162\n",
            "Recall: 0.2750\n",
            "F1-score: 0.1642\n",
            "\n"
          ]
        },
        {
          "name": "stderr",
          "output_type": "stream",
          "text": [
            "/Library/Frameworks/Python.framework/Versions/3.11/lib/python3.11/site-packages/sklearn/metrics/_classification.py:1509: UndefinedMetricWarning: Precision is ill-defined and being set to 0.0 in labels with no predicted samples. Use `zero_division` parameter to control this behavior.\n",
            "  _warn_prf(average, modifier, f\"{metric.capitalize()} is\", len(result))\n",
            "/Library/Frameworks/Python.framework/Versions/3.11/lib/python3.11/site-packages/sklearn/metrics/_classification.py:1509: UndefinedMetricWarning: Precision is ill-defined and being set to 0.0 in labels with no predicted samples. Use `zero_division` parameter to control this behavior.\n",
            "  _warn_prf(average, modifier, f\"{metric.capitalize()} is\", len(result))\n",
            "/Library/Frameworks/Python.framework/Versions/3.11/lib/python3.11/site-packages/sklearn/metrics/_classification.py:1509: UndefinedMetricWarning: Precision is ill-defined and being set to 0.0 in labels with no predicted samples. Use `zero_division` parameter to control this behavior.\n",
            "  _warn_prf(average, modifier, f\"{metric.capitalize()} is\", len(result))\n",
            "/Library/Frameworks/Python.framework/Versions/3.11/lib/python3.11/site-packages/sklearn/metrics/_classification.py:1509: UndefinedMetricWarning: Precision is ill-defined and being set to 0.0 in labels with no predicted samples. Use `zero_division` parameter to control this behavior.\n",
            "  _warn_prf(average, modifier, f\"{metric.capitalize()} is\", len(result))\n",
            "/Library/Frameworks/Python.framework/Versions/3.11/lib/python3.11/site-packages/sklearn/metrics/_classification.py:1509: UndefinedMetricWarning: Precision is ill-defined and being set to 0.0 in labels with no predicted samples. Use `zero_division` parameter to control this behavior.\n",
            "  _warn_prf(average, modifier, f\"{metric.capitalize()} is\", len(result))\n",
            "/Library/Frameworks/Python.framework/Versions/3.11/lib/python3.11/site-packages/sklearn/metrics/_classification.py:1509: UndefinedMetricWarning: Precision is ill-defined and being set to 0.0 in labels with no predicted samples. Use `zero_division` parameter to control this behavior.\n",
            "  _warn_prf(average, modifier, f\"{metric.capitalize()} is\", len(result))\n"
          ]
        }
      ],
      "source": [
        "# Your code goes here!\n",
        "data = pd.read_csv('Logistic_question.csv')\n",
        "for num_levels in range(2, 11):\n",
        "    data[f'Target_{num_levels}'] = pd.qcut(data['Target'], num_levels, labels=False)\n",
        "    X = data.drop(['Target', f'Target_{num_levels}'], axis=1).values\n",
        "    y = data[f'Target_{num_levels}'].values\n",
        "\n",
        "    X_train, X_test, y_train, y_test = train_test_split(X, y, test_size=0.2, random_state=42)\n",
        "\n",
        "    scaler = StandardScaler()\n",
        "    X_train = scaler.fit_transform(X_train)\n",
        "    X_test = scaler.transform(X_test)\n",
        "\n",
        "    model = MyMultinomialLogisticRegression()\n",
        "    model.fit(X_train, y_train)\n",
        "\n",
        "    y_pred = model.predict(X_test)\n",
        "\n",
        "    accuracy_3 = accuracy_score(y_test, y_pred)\n",
        "    precision_3 = precision_score(y_test, y_pred, average='weighted' , zero_division='warn' )\n",
        "    recall_3 = recall_score(y_test, y_pred, average='weighted')\n",
        "    f1_3 = f1_score(y_test, y_pred, average='weighted')\n",
        "\n",
        "    print(f\"Quantization Levels: {num_levels}\")\n",
        "    print(f\"Accuracy: {accuracy_3:.4f}\")\n",
        "    print(f\"Precision: {precision_3:.4f}\")\n",
        "    print(f\"Recall: {recall_3:.4f}\")\n",
        "    print(f\"F1-score: {f1_3:.4f}\")\n",
        "    print()"
      ]
    },
    {
      "cell_type": "markdown",
      "metadata": {
        "id": "Of2sHl5Z4dXi"
      },
      "source": [
        "**Question:** Report for which $i$ your model performs best. Describe and analyze the results! You could use visualizations or any other method!"
      ]
    },
    {
      "cell_type": "markdown",
      "metadata": {
        "id": "cRLERDAr4wnS"
      },
      "source": [
        "**Your answer:** The best result is for i = 2"
      ]
    },
    {
      "cell_type": "markdown",
      "metadata": {
        "id": "wT43jGKV6CBZ"
      },
      "source": [
        "# Going a little further!"
      ]
    },
    {
      "cell_type": "markdown",
      "metadata": {
        "id": "Vo9uGo0R6GZo"
      },
      "source": [
        "First we download Adult income dataset from Kaggle! In order to do this create an account on this website, and create an API. A file named kaggle.json will be downloaded to your device. Then use the following code:"
      ]
    },
    {
      "cell_type": "code",
      "execution_count": null,
      "metadata": {
        "colab": {
          "base_uri": "https://localhost:8080/",
          "height": 73
        },
        "id": "o-vrjYBF7u1E",
        "outputId": "b274bc6e-4c35-4ad8-f17b-9e69f7d92923"
      },
      "outputs": [],
      "source": [
        "from google.colab import files\n",
        "files.upload()  # Use this to select the kaggle.json file from your computer\n",
        "!mkdir -p ~/.kaggle\n",
        "!cp kaggle.json ~/.kaggle/\n",
        "!chmod 600 ~/.kaggle/kaggle.json"
      ]
    },
    {
      "cell_type": "markdown",
      "metadata": {
        "id": "5i6u6_1v8ftX"
      },
      "source": [
        "Then use this code to automatically download the dataset into Colab."
      ]
    },
    {
      "cell_type": "code",
      "execution_count": null,
      "metadata": {
        "colab": {
          "base_uri": "https://localhost:8080/"
        },
        "id": "XjyVaVKF29Hx",
        "outputId": "15d0b1a2-c806-4102-abbc-12545237e218"
      },
      "outputs": [],
      "source": [
        "!kaggle datasets download -d wenruliu/adult-income-dataset\n",
        "!unzip /content/adult-income-dataset.zip"
      ]
    },
    {
      "cell_type": "markdown",
      "metadata": {},
      "source": [
        "**loading the dataset directly :**"
      ]
    },
    {
      "cell_type": "code",
      "execution_count": 2,
      "metadata": {},
      "outputs": [],
      "source": [
        "adult_df = pd.read_csv('adult.csv', na_values='?')"
      ]
    },
    {
      "cell_type": "markdown",
      "metadata": {
        "id": "EXQnbZwt8rJK"
      },
      "source": [
        "**Task:** Determine the number of null entries!"
      ]
    },
    {
      "cell_type": "code",
      "execution_count": 3,
      "metadata": {
        "colab": {
          "base_uri": "https://localhost:8080/"
        },
        "id": "JtuEx6QW29c1",
        "outputId": "43397bec-0622-4dc4-de2b-c65be00e4503"
      },
      "outputs": [
        {
          "name": "stdout",
          "output_type": "stream",
          "text": [
            "Number of null entries represented by '?': 6465\n"
          ]
        }
      ],
      "source": [
        "null_count = adult_df.isnull().sum().sum()\n",
        "print(\"Number of null entries represented by '?':\", null_count)\n"
      ]
    },
    {
      "cell_type": "markdown",
      "metadata": {
        "id": "JpEcBdTUAYVN"
      },
      "source": [
        "**Question:** In many widely used datasets there are a lot of null entries. Propose 5 methods by which, one could deal with this problem. Briefly explain how do you decide which one to use in this problem."
      ]
    },
    {
      "cell_type": "markdown",
      "metadata": {
        "id": "l1u1pBHuAsSg"
      },
      "source": [
        "**Your answer:**\n",
        "\n",
        "### Methods to Handle Missing Data:\n",
        "1. **Removal of Rows or Columns**: One simple approach is to remove rows or columns with null entries. If a significant portion of the data is missing, removing the entire row or column may be a viable option. However, this method may result in loss of valuable information, especially if the missing data is not random.\n",
        "\n",
        "2. **Imputation**: Imputation involves replacing missing values with estimated or calculated values. This can be done using various statistical methods such as mean, median, mode imputation, or more advanced techniques like regression imputation or k-nearest neighbors (KNN) imputation. Imputation helps retain the data structure and reduces the impact of missing values on the analysis.\n",
        "\n",
        "3. **Prediction Models**: Another approach is to use prediction models to estimate missing values based on the available data. This can be achieved by training a machine learning model on the non-missing data and using it to predict the missing values. However, this method may be computationally expensive and requires a sufficiently large dataset.\n",
        "\n",
        "4. **Indicator Variables**: Instead of imputing missing values directly, indicator variables can be created to indicate whether a value is missing or not. This approach allows the missingness to be included as a feature in the analysis, potentially capturing valuable information about the data.\n",
        "\n",
        "5. **Advanced Imputation Techniques**: There are more sophisticated imputation techniques available, such as multiple imputation or matrix completion methods. Multiple imputation involves generating multiple plausible values for each missing entry, while matrix completion methods aim to fill in missing entries by leveraging the underlying structure of the data.\n",
        "\n",
        "### Decision on Method Selection:\n",
        "The choice of method depends on various factors including the nature of the data, the amount of missing data, the analysis objectives, and domain knowledge. For example:\n",
        "\n",
        "- If the missing data is small and random, imputation methods like mean or median imputation may be suitable.\n",
        "- If the missing data is significant but removing rows or columns would result in loss of valuable information, more sophisticated imputation techniques or prediction models may be preferred.\n",
        "- If the missing data follows a particular pattern or is related to other variables, indicator variables or advanced imputation techniques may be appropriate.\n",
        "\n",
        "In the case of the 'adult.csv' dataset, we would first need to assess the extent and pattern of missing data. Depending on the findings, we can then decide on the most suitable method(s) to handle the missing values. This might involve a combination of approaches or iterative refinement based on the specific characteristics of the dataset and the analysis requirements."
      ]
    },
    {
      "cell_type": "markdown",
      "metadata": {
        "id": "eHhH-hkpAxFf"
      },
      "source": [
        "**Task:** Handle null entries using your best method."
      ]
    },
    {
      "cell_type": "code",
      "execution_count": 4,
      "metadata": {
        "colab": {
          "base_uri": "https://localhost:8080/",
          "height": 206
        },
        "id": "5fVwWcjK29fk",
        "outputId": "c21a6adf-1e6c-46d0-dd61-79d1710272c1"
      },
      "outputs": [],
      "source": [
        "# Your code goes here!\n",
        "# we can use .dropna() \n",
        "adult_df = adult_df.dropna()"
      ]
    },
    {
      "cell_type": "markdown",
      "metadata": {
        "id": "43k5cTorCJaV"
      },
      "source": [
        "**Task:** Convert categorical features to numerical values. Split the dataset with 80-20 portion. Normalize all the data using X_train. Use the built-in Logistic Regression function and GridSearchCV to train your model, and report the parameters, train and test accuracy of the best model."
      ]
    },
    {
      "cell_type": "code",
      "execution_count": 5,
      "metadata": {},
      "outputs": [
        {
          "data": {
            "text/html": [
              "<div>\n",
              "<style scoped>\n",
              "    .dataframe tbody tr th:only-of-type {\n",
              "        vertical-align: middle;\n",
              "    }\n",
              "\n",
              "    .dataframe tbody tr th {\n",
              "        vertical-align: top;\n",
              "    }\n",
              "\n",
              "    .dataframe thead th {\n",
              "        text-align: right;\n",
              "    }\n",
              "</style>\n",
              "<table border=\"1\" class=\"dataframe\">\n",
              "  <thead>\n",
              "    <tr style=\"text-align: right;\">\n",
              "      <th></th>\n",
              "      <th>age</th>\n",
              "      <th>workclass</th>\n",
              "      <th>fnlwgt</th>\n",
              "      <th>education</th>\n",
              "      <th>educational-num</th>\n",
              "      <th>marital-status</th>\n",
              "      <th>occupation</th>\n",
              "      <th>relationship</th>\n",
              "      <th>race</th>\n",
              "      <th>gender</th>\n",
              "      <th>capital-gain</th>\n",
              "      <th>capital-loss</th>\n",
              "      <th>hours-per-week</th>\n",
              "      <th>native-country</th>\n",
              "      <th>income</th>\n",
              "    </tr>\n",
              "  </thead>\n",
              "  <tbody>\n",
              "    <tr>\n",
              "      <th>0</th>\n",
              "      <td>25</td>\n",
              "      <td>Private</td>\n",
              "      <td>226802</td>\n",
              "      <td>11th</td>\n",
              "      <td>7</td>\n",
              "      <td>Never-married</td>\n",
              "      <td>Machine-op-inspct</td>\n",
              "      <td>Own-child</td>\n",
              "      <td>Black</td>\n",
              "      <td>Male</td>\n",
              "      <td>0</td>\n",
              "      <td>0</td>\n",
              "      <td>40</td>\n",
              "      <td>United-States</td>\n",
              "      <td>&lt;=50K</td>\n",
              "    </tr>\n",
              "    <tr>\n",
              "      <th>1</th>\n",
              "      <td>38</td>\n",
              "      <td>Private</td>\n",
              "      <td>89814</td>\n",
              "      <td>HS-grad</td>\n",
              "      <td>9</td>\n",
              "      <td>Married-civ-spouse</td>\n",
              "      <td>Farming-fishing</td>\n",
              "      <td>Husband</td>\n",
              "      <td>White</td>\n",
              "      <td>Male</td>\n",
              "      <td>0</td>\n",
              "      <td>0</td>\n",
              "      <td>50</td>\n",
              "      <td>United-States</td>\n",
              "      <td>&lt;=50K</td>\n",
              "    </tr>\n",
              "    <tr>\n",
              "      <th>2</th>\n",
              "      <td>28</td>\n",
              "      <td>Local-gov</td>\n",
              "      <td>336951</td>\n",
              "      <td>Assoc-acdm</td>\n",
              "      <td>12</td>\n",
              "      <td>Married-civ-spouse</td>\n",
              "      <td>Protective-serv</td>\n",
              "      <td>Husband</td>\n",
              "      <td>White</td>\n",
              "      <td>Male</td>\n",
              "      <td>0</td>\n",
              "      <td>0</td>\n",
              "      <td>40</td>\n",
              "      <td>United-States</td>\n",
              "      <td>&gt;50K</td>\n",
              "    </tr>\n",
              "    <tr>\n",
              "      <th>3</th>\n",
              "      <td>44</td>\n",
              "      <td>Private</td>\n",
              "      <td>160323</td>\n",
              "      <td>Some-college</td>\n",
              "      <td>10</td>\n",
              "      <td>Married-civ-spouse</td>\n",
              "      <td>Machine-op-inspct</td>\n",
              "      <td>Husband</td>\n",
              "      <td>Black</td>\n",
              "      <td>Male</td>\n",
              "      <td>7688</td>\n",
              "      <td>0</td>\n",
              "      <td>40</td>\n",
              "      <td>United-States</td>\n",
              "      <td>&gt;50K</td>\n",
              "    </tr>\n",
              "    <tr>\n",
              "      <th>5</th>\n",
              "      <td>34</td>\n",
              "      <td>Private</td>\n",
              "      <td>198693</td>\n",
              "      <td>10th</td>\n",
              "      <td>6</td>\n",
              "      <td>Never-married</td>\n",
              "      <td>Other-service</td>\n",
              "      <td>Not-in-family</td>\n",
              "      <td>White</td>\n",
              "      <td>Male</td>\n",
              "      <td>0</td>\n",
              "      <td>0</td>\n",
              "      <td>30</td>\n",
              "      <td>United-States</td>\n",
              "      <td>&lt;=50K</td>\n",
              "    </tr>\n",
              "    <tr>\n",
              "      <th>...</th>\n",
              "      <td>...</td>\n",
              "      <td>...</td>\n",
              "      <td>...</td>\n",
              "      <td>...</td>\n",
              "      <td>...</td>\n",
              "      <td>...</td>\n",
              "      <td>...</td>\n",
              "      <td>...</td>\n",
              "      <td>...</td>\n",
              "      <td>...</td>\n",
              "      <td>...</td>\n",
              "      <td>...</td>\n",
              "      <td>...</td>\n",
              "      <td>...</td>\n",
              "      <td>...</td>\n",
              "    </tr>\n",
              "    <tr>\n",
              "      <th>48837</th>\n",
              "      <td>27</td>\n",
              "      <td>Private</td>\n",
              "      <td>257302</td>\n",
              "      <td>Assoc-acdm</td>\n",
              "      <td>12</td>\n",
              "      <td>Married-civ-spouse</td>\n",
              "      <td>Tech-support</td>\n",
              "      <td>Wife</td>\n",
              "      <td>White</td>\n",
              "      <td>Female</td>\n",
              "      <td>0</td>\n",
              "      <td>0</td>\n",
              "      <td>38</td>\n",
              "      <td>United-States</td>\n",
              "      <td>&lt;=50K</td>\n",
              "    </tr>\n",
              "    <tr>\n",
              "      <th>48838</th>\n",
              "      <td>40</td>\n",
              "      <td>Private</td>\n",
              "      <td>154374</td>\n",
              "      <td>HS-grad</td>\n",
              "      <td>9</td>\n",
              "      <td>Married-civ-spouse</td>\n",
              "      <td>Machine-op-inspct</td>\n",
              "      <td>Husband</td>\n",
              "      <td>White</td>\n",
              "      <td>Male</td>\n",
              "      <td>0</td>\n",
              "      <td>0</td>\n",
              "      <td>40</td>\n",
              "      <td>United-States</td>\n",
              "      <td>&gt;50K</td>\n",
              "    </tr>\n",
              "    <tr>\n",
              "      <th>48839</th>\n",
              "      <td>58</td>\n",
              "      <td>Private</td>\n",
              "      <td>151910</td>\n",
              "      <td>HS-grad</td>\n",
              "      <td>9</td>\n",
              "      <td>Widowed</td>\n",
              "      <td>Adm-clerical</td>\n",
              "      <td>Unmarried</td>\n",
              "      <td>White</td>\n",
              "      <td>Female</td>\n",
              "      <td>0</td>\n",
              "      <td>0</td>\n",
              "      <td>40</td>\n",
              "      <td>United-States</td>\n",
              "      <td>&lt;=50K</td>\n",
              "    </tr>\n",
              "    <tr>\n",
              "      <th>48840</th>\n",
              "      <td>22</td>\n",
              "      <td>Private</td>\n",
              "      <td>201490</td>\n",
              "      <td>HS-grad</td>\n",
              "      <td>9</td>\n",
              "      <td>Never-married</td>\n",
              "      <td>Adm-clerical</td>\n",
              "      <td>Own-child</td>\n",
              "      <td>White</td>\n",
              "      <td>Male</td>\n",
              "      <td>0</td>\n",
              "      <td>0</td>\n",
              "      <td>20</td>\n",
              "      <td>United-States</td>\n",
              "      <td>&lt;=50K</td>\n",
              "    </tr>\n",
              "    <tr>\n",
              "      <th>48841</th>\n",
              "      <td>52</td>\n",
              "      <td>Self-emp-inc</td>\n",
              "      <td>287927</td>\n",
              "      <td>HS-grad</td>\n",
              "      <td>9</td>\n",
              "      <td>Married-civ-spouse</td>\n",
              "      <td>Exec-managerial</td>\n",
              "      <td>Wife</td>\n",
              "      <td>White</td>\n",
              "      <td>Female</td>\n",
              "      <td>15024</td>\n",
              "      <td>0</td>\n",
              "      <td>40</td>\n",
              "      <td>United-States</td>\n",
              "      <td>&gt;50K</td>\n",
              "    </tr>\n",
              "  </tbody>\n",
              "</table>\n",
              "<p>45222 rows × 15 columns</p>\n",
              "</div>"
            ],
            "text/plain": [
              "       age     workclass  fnlwgt     education  educational-num  \\\n",
              "0       25       Private  226802          11th                7   \n",
              "1       38       Private   89814       HS-grad                9   \n",
              "2       28     Local-gov  336951    Assoc-acdm               12   \n",
              "3       44       Private  160323  Some-college               10   \n",
              "5       34       Private  198693          10th                6   \n",
              "...    ...           ...     ...           ...              ...   \n",
              "48837   27       Private  257302    Assoc-acdm               12   \n",
              "48838   40       Private  154374       HS-grad                9   \n",
              "48839   58       Private  151910       HS-grad                9   \n",
              "48840   22       Private  201490       HS-grad                9   \n",
              "48841   52  Self-emp-inc  287927       HS-grad                9   \n",
              "\n",
              "           marital-status         occupation   relationship   race  gender  \\\n",
              "0           Never-married  Machine-op-inspct      Own-child  Black    Male   \n",
              "1      Married-civ-spouse    Farming-fishing        Husband  White    Male   \n",
              "2      Married-civ-spouse    Protective-serv        Husband  White    Male   \n",
              "3      Married-civ-spouse  Machine-op-inspct        Husband  Black    Male   \n",
              "5           Never-married      Other-service  Not-in-family  White    Male   \n",
              "...                   ...                ...            ...    ...     ...   \n",
              "48837  Married-civ-spouse       Tech-support           Wife  White  Female   \n",
              "48838  Married-civ-spouse  Machine-op-inspct        Husband  White    Male   \n",
              "48839             Widowed       Adm-clerical      Unmarried  White  Female   \n",
              "48840       Never-married       Adm-clerical      Own-child  White    Male   \n",
              "48841  Married-civ-spouse    Exec-managerial           Wife  White  Female   \n",
              "\n",
              "       capital-gain  capital-loss  hours-per-week native-country income  \n",
              "0                 0             0              40  United-States  <=50K  \n",
              "1                 0             0              50  United-States  <=50K  \n",
              "2                 0             0              40  United-States   >50K  \n",
              "3              7688             0              40  United-States   >50K  \n",
              "5                 0             0              30  United-States  <=50K  \n",
              "...             ...           ...             ...            ...    ...  \n",
              "48837             0             0              38  United-States  <=50K  \n",
              "48838             0             0              40  United-States   >50K  \n",
              "48839             0             0              40  United-States  <=50K  \n",
              "48840             0             0              20  United-States  <=50K  \n",
              "48841         15024             0              40  United-States   >50K  \n",
              "\n",
              "[45222 rows x 15 columns]"
            ]
          },
          "execution_count": 5,
          "metadata": {},
          "output_type": "execute_result"
        }
      ],
      "source": [
        "adult_df"
      ]
    },
    {
      "cell_type": "code",
      "execution_count": 6,
      "metadata": {},
      "outputs": [
        {
          "name": "stdout",
          "output_type": "stream",
          "text": [
            "Categorical columns: ['workclass', 'education', 'marital-status', 'occupation', 'relationship', 'race', 'gender', 'native-country', 'income']\n"
          ]
        }
      ],
      "source": [
        "\n",
        "categorical_columns = adult_df.select_dtypes(include=['object', 'category']).columns.tolist()\n",
        "\n",
        "print(\"Categorical columns:\", categorical_columns)\n"
      ]
    },
    {
      "cell_type": "code",
      "execution_count": 8,
      "metadata": {
        "colab": {
          "base_uri": "https://localhost:8080/"
        },
        "id": "Agj18Lcd-vyZ",
        "outputId": "69e132a9-0249-4a21-c8f3-45247c1e17dc"
      },
      "outputs": [
        {
          "data": {
            "text/html": [
              "<div>\n",
              "<style scoped>\n",
              "    .dataframe tbody tr th:only-of-type {\n",
              "        vertical-align: middle;\n",
              "    }\n",
              "\n",
              "    .dataframe tbody tr th {\n",
              "        vertical-align: top;\n",
              "    }\n",
              "\n",
              "    .dataframe thead th {\n",
              "        text-align: right;\n",
              "    }\n",
              "</style>\n",
              "<table border=\"1\" class=\"dataframe\">\n",
              "  <thead>\n",
              "    <tr style=\"text-align: right;\">\n",
              "      <th></th>\n",
              "      <th>age</th>\n",
              "      <th>workclass</th>\n",
              "      <th>fnlwgt</th>\n",
              "      <th>education</th>\n",
              "      <th>educational-num</th>\n",
              "      <th>marital-status</th>\n",
              "      <th>occupation</th>\n",
              "      <th>relationship</th>\n",
              "      <th>race</th>\n",
              "      <th>gender</th>\n",
              "      <th>capital-gain</th>\n",
              "      <th>capital-loss</th>\n",
              "      <th>hours-per-week</th>\n",
              "      <th>native-country</th>\n",
              "      <th>income</th>\n",
              "    </tr>\n",
              "  </thead>\n",
              "  <tbody>\n",
              "    <tr>\n",
              "      <th>0</th>\n",
              "      <td>25</td>\n",
              "      <td>2</td>\n",
              "      <td>226802</td>\n",
              "      <td>1</td>\n",
              "      <td>7</td>\n",
              "      <td>4</td>\n",
              "      <td>6</td>\n",
              "      <td>3</td>\n",
              "      <td>2</td>\n",
              "      <td>1</td>\n",
              "      <td>0</td>\n",
              "      <td>0</td>\n",
              "      <td>40</td>\n",
              "      <td>38</td>\n",
              "      <td>0</td>\n",
              "    </tr>\n",
              "    <tr>\n",
              "      <th>1</th>\n",
              "      <td>38</td>\n",
              "      <td>2</td>\n",
              "      <td>89814</td>\n",
              "      <td>11</td>\n",
              "      <td>9</td>\n",
              "      <td>2</td>\n",
              "      <td>4</td>\n",
              "      <td>0</td>\n",
              "      <td>4</td>\n",
              "      <td>1</td>\n",
              "      <td>0</td>\n",
              "      <td>0</td>\n",
              "      <td>50</td>\n",
              "      <td>38</td>\n",
              "      <td>0</td>\n",
              "    </tr>\n",
              "    <tr>\n",
              "      <th>2</th>\n",
              "      <td>28</td>\n",
              "      <td>1</td>\n",
              "      <td>336951</td>\n",
              "      <td>7</td>\n",
              "      <td>12</td>\n",
              "      <td>2</td>\n",
              "      <td>10</td>\n",
              "      <td>0</td>\n",
              "      <td>4</td>\n",
              "      <td>1</td>\n",
              "      <td>0</td>\n",
              "      <td>0</td>\n",
              "      <td>40</td>\n",
              "      <td>38</td>\n",
              "      <td>1</td>\n",
              "    </tr>\n",
              "    <tr>\n",
              "      <th>3</th>\n",
              "      <td>44</td>\n",
              "      <td>2</td>\n",
              "      <td>160323</td>\n",
              "      <td>15</td>\n",
              "      <td>10</td>\n",
              "      <td>2</td>\n",
              "      <td>6</td>\n",
              "      <td>0</td>\n",
              "      <td>2</td>\n",
              "      <td>1</td>\n",
              "      <td>7688</td>\n",
              "      <td>0</td>\n",
              "      <td>40</td>\n",
              "      <td>38</td>\n",
              "      <td>1</td>\n",
              "    </tr>\n",
              "    <tr>\n",
              "      <th>5</th>\n",
              "      <td>34</td>\n",
              "      <td>2</td>\n",
              "      <td>198693</td>\n",
              "      <td>0</td>\n",
              "      <td>6</td>\n",
              "      <td>4</td>\n",
              "      <td>7</td>\n",
              "      <td>1</td>\n",
              "      <td>4</td>\n",
              "      <td>1</td>\n",
              "      <td>0</td>\n",
              "      <td>0</td>\n",
              "      <td>30</td>\n",
              "      <td>38</td>\n",
              "      <td>0</td>\n",
              "    </tr>\n",
              "    <tr>\n",
              "      <th>...</th>\n",
              "      <td>...</td>\n",
              "      <td>...</td>\n",
              "      <td>...</td>\n",
              "      <td>...</td>\n",
              "      <td>...</td>\n",
              "      <td>...</td>\n",
              "      <td>...</td>\n",
              "      <td>...</td>\n",
              "      <td>...</td>\n",
              "      <td>...</td>\n",
              "      <td>...</td>\n",
              "      <td>...</td>\n",
              "      <td>...</td>\n",
              "      <td>...</td>\n",
              "      <td>...</td>\n",
              "    </tr>\n",
              "    <tr>\n",
              "      <th>48837</th>\n",
              "      <td>27</td>\n",
              "      <td>2</td>\n",
              "      <td>257302</td>\n",
              "      <td>7</td>\n",
              "      <td>12</td>\n",
              "      <td>2</td>\n",
              "      <td>12</td>\n",
              "      <td>5</td>\n",
              "      <td>4</td>\n",
              "      <td>0</td>\n",
              "      <td>0</td>\n",
              "      <td>0</td>\n",
              "      <td>38</td>\n",
              "      <td>38</td>\n",
              "      <td>0</td>\n",
              "    </tr>\n",
              "    <tr>\n",
              "      <th>48838</th>\n",
              "      <td>40</td>\n",
              "      <td>2</td>\n",
              "      <td>154374</td>\n",
              "      <td>11</td>\n",
              "      <td>9</td>\n",
              "      <td>2</td>\n",
              "      <td>6</td>\n",
              "      <td>0</td>\n",
              "      <td>4</td>\n",
              "      <td>1</td>\n",
              "      <td>0</td>\n",
              "      <td>0</td>\n",
              "      <td>40</td>\n",
              "      <td>38</td>\n",
              "      <td>1</td>\n",
              "    </tr>\n",
              "    <tr>\n",
              "      <th>48839</th>\n",
              "      <td>58</td>\n",
              "      <td>2</td>\n",
              "      <td>151910</td>\n",
              "      <td>11</td>\n",
              "      <td>9</td>\n",
              "      <td>6</td>\n",
              "      <td>0</td>\n",
              "      <td>4</td>\n",
              "      <td>4</td>\n",
              "      <td>0</td>\n",
              "      <td>0</td>\n",
              "      <td>0</td>\n",
              "      <td>40</td>\n",
              "      <td>38</td>\n",
              "      <td>0</td>\n",
              "    </tr>\n",
              "    <tr>\n",
              "      <th>48840</th>\n",
              "      <td>22</td>\n",
              "      <td>2</td>\n",
              "      <td>201490</td>\n",
              "      <td>11</td>\n",
              "      <td>9</td>\n",
              "      <td>4</td>\n",
              "      <td>0</td>\n",
              "      <td>3</td>\n",
              "      <td>4</td>\n",
              "      <td>1</td>\n",
              "      <td>0</td>\n",
              "      <td>0</td>\n",
              "      <td>20</td>\n",
              "      <td>38</td>\n",
              "      <td>0</td>\n",
              "    </tr>\n",
              "    <tr>\n",
              "      <th>48841</th>\n",
              "      <td>52</td>\n",
              "      <td>3</td>\n",
              "      <td>287927</td>\n",
              "      <td>11</td>\n",
              "      <td>9</td>\n",
              "      <td>2</td>\n",
              "      <td>3</td>\n",
              "      <td>5</td>\n",
              "      <td>4</td>\n",
              "      <td>0</td>\n",
              "      <td>15024</td>\n",
              "      <td>0</td>\n",
              "      <td>40</td>\n",
              "      <td>38</td>\n",
              "      <td>1</td>\n",
              "    </tr>\n",
              "  </tbody>\n",
              "</table>\n",
              "<p>45222 rows × 15 columns</p>\n",
              "</div>"
            ],
            "text/plain": [
              "       age  workclass  fnlwgt  education  educational-num  marital-status  \\\n",
              "0       25          2  226802          1                7               4   \n",
              "1       38          2   89814         11                9               2   \n",
              "2       28          1  336951          7               12               2   \n",
              "3       44          2  160323         15               10               2   \n",
              "5       34          2  198693          0                6               4   \n",
              "...    ...        ...     ...        ...              ...             ...   \n",
              "48837   27          2  257302          7               12               2   \n",
              "48838   40          2  154374         11                9               2   \n",
              "48839   58          2  151910         11                9               6   \n",
              "48840   22          2  201490         11                9               4   \n",
              "48841   52          3  287927         11                9               2   \n",
              "\n",
              "       occupation  relationship  race  gender  capital-gain  capital-loss  \\\n",
              "0               6             3     2       1             0             0   \n",
              "1               4             0     4       1             0             0   \n",
              "2              10             0     4       1             0             0   \n",
              "3               6             0     2       1          7688             0   \n",
              "5               7             1     4       1             0             0   \n",
              "...           ...           ...   ...     ...           ...           ...   \n",
              "48837          12             5     4       0             0             0   \n",
              "48838           6             0     4       1             0             0   \n",
              "48839           0             4     4       0             0             0   \n",
              "48840           0             3     4       1             0             0   \n",
              "48841           3             5     4       0         15024             0   \n",
              "\n",
              "       hours-per-week  native-country  income  \n",
              "0                  40              38       0  \n",
              "1                  50              38       0  \n",
              "2                  40              38       1  \n",
              "3                  40              38       1  \n",
              "5                  30              38       0  \n",
              "...               ...             ...     ...  \n",
              "48837              38              38       0  \n",
              "48838              40              38       1  \n",
              "48839              40              38       0  \n",
              "48840              20              38       0  \n",
              "48841              40              38       1  \n",
              "\n",
              "[45222 rows x 15 columns]"
            ]
          },
          "execution_count": 8,
          "metadata": {},
          "output_type": "execute_result"
        }
      ],
      "source": [
        "df_encoded = pd.get_dummies(adult_df)\n",
        "\n",
        "label_encoder = LabelEncoder()\n",
        "\n",
        "\n",
        "for col in categorical_columns:  \n",
        "    adult_df[col] = label_encoder.fit_transform(adult_df[col])\n",
        "adult_df"
      ]
    },
    {
      "cell_type": "code",
      "execution_count": 37,
      "metadata": {},
      "outputs": [
        {
          "name": "stdout",
          "output_type": "stream",
          "text": [
            "Best Parameters: {'C': 0.1}\n",
            "Best Train Accuracy: 0.8206871769356221\n",
            "Best Test Accuracy: 0.8208955223880597\n"
          ]
        }
      ],
      "source": [
        "\n",
        "X = adult_df.drop(columns=['income'])\n",
        "y = adult_df['income']\n",
        "X_train, X_test, y_train, y_test = train_test_split(X, y, test_size=0.2, random_state=42)\n",
        "\n",
        "scaler = StandardScaler()\n",
        "X_train_scaled = scaler.fit_transform(X_train)\n",
        "X_test_scaled = scaler.transform(X_test)\n",
        "\n",
        "param_grid = {'C': [0.001, 0.01, 0.1, 1, 10, 100]}\n",
        "\n",
        "\n",
        "logistic_reg = LogisticRegression(max_iter=1000)\n",
        "\n",
        "grid_search = GridSearchCV(logistic_reg, param_grid, cv=5)\n",
        "grid_search.fit(X_train_scaled, y_train)\n",
        "\n",
        "best_params = grid_search.best_params_\n",
        "best_score = grid_search.best_score_\n",
        "\n",
        "best_model = LogisticRegression(**best_params, max_iter=1000)\n",
        "best_model.fit(X_train_scaled, y_train)\n",
        "\n",
        "train_predictions = best_model.predict(X_train_scaled)\n",
        "train_accuracy = accuracy_score(y_train, train_predictions)\n",
        "\n",
        "test_predictions = best_model.predict(X_test_scaled)\n",
        "test_accuracy = accuracy_score(y_test, test_predictions)\n",
        "\n",
        "print(\"Best Parameters:\", best_params)\n",
        "print(\"Best Train Accuracy:\", train_accuracy)\n",
        "print(\"Best Test Accuracy:\", test_accuracy)"
      ]
    },
    {
      "cell_type": "markdown",
      "metadata": {
        "id": "6Lzr2lqXDQ1T"
      },
      "source": [
        "**Task:** To try a different route, split X_train into $i$ parts, and train $i$ separate models on these parts. Now propose and implement 3 different *ensemble methods* to derive the global models' prediction for X_test using the results(not necessarily predictions!) of the $i$ models. Firstly, set $i=10$ to find the method with the best test accuracy(the answer is not general!). You must Use your own Logistic Regression model.(You might want to modify it a little bit for this part!)"
      ]
    },
    {
      "cell_type": "code",
      "execution_count": 41,
      "metadata": {
        "id": "K9D1jlstF9nF"
      },
      "outputs": [
        {
          "name": "stderr",
          "output_type": "stream",
          "text": [
            "/Library/Frameworks/Python.framework/Versions/3.11/lib/python3.11/site-packages/numpy/core/fromnumeric.py:59: FutureWarning: 'Series.swapaxes' is deprecated and will be removed in a future version. Please use 'Series.transpose' instead.\n",
            "  return bound(*args, **kwds)\n"
          ]
        },
        {
          "name": "stdout",
          "output_type": "stream",
          "text": [
            "Test Accuracy (Majority Voting): 0.814262023217247\n",
            "Test Accuracy (Average Probabilities): 0.8139303482587065\n",
            "Test Accuracy (Weighted Average Probabilities): 0.8139303482587065\n"
          ]
        }
      ],
      "source": [
        "i = 10\n",
        "X_train_parts = np.array_split(X_train_scaled, i)\n",
        "y_train_parts = np.array_split(y_train, i)\n",
        "\n",
        "models = []\n",
        "for j in range(i):\n",
        "    model = MyLogisticRegression(learning_rate=0.01, epochs=1000)\n",
        "    model.fit(X_train_parts[j], y_train_parts[j])\n",
        "    models.append(model)\n",
        "\n",
        "\n",
        "def majority_voting(models, X):\n",
        "    predictions = np.array([model.predict(X) for model in models])\n",
        "    ensemble_predictions = np.mean(predictions, axis=0) >= 0.5\n",
        "    return ensemble_predictions.astype(int)\n",
        "\n",
        "\n",
        "def average_probabilities(models, X):\n",
        "    probabilities = np.array([model.predict_proba(X) for model in models])\n",
        "    average_prob = np.mean(probabilities, axis=0)\n",
        "    ensemble_predictions = average_prob >= 0.5\n",
        "    return ensemble_predictions.astype(int)\n",
        "\n",
        "\n",
        "def weighted_average_probabilities(models, X):\n",
        "    weights = [accuracy_score(y_train_parts[j], model.predict(X_train_parts[j])) for j, model in enumerate(models)]\n",
        "    probabilities = np.array([model.predict_proba(X) for model in models])\n",
        "    weighted_average_prob = np.average(probabilities, axis=0, weights=weights)\n",
        "    ensemble_predictions = weighted_average_prob >= 0.5\n",
        "    return ensemble_predictions.astype(int)\n",
        "\n",
        "\n",
        "X_test_scaled = scaler.transform(X_test)\n",
        "y_pred_majority_voting = majority_voting(models, X_test_scaled)\n",
        "y_pred_average_probabilities = average_probabilities(models, X_test_scaled)\n",
        "y_pred_weighted_average_probabilities = weighted_average_probabilities(models, X_test_scaled)\n",
        "\n",
        "\n",
        "accuracy_majority_voting = accuracy_score(y_test, y_pred_majority_voting)\n",
        "accuracy_average_probabilities = accuracy_score(y_test, y_pred_average_probabilities)\n",
        "accuracy_weighted_average_probabilities = accuracy_score(y_test, y_pred_weighted_average_probabilities)\n",
        "\n",
        "print(\"Test Accuracy (Majority Voting):\", accuracy_majority_voting)\n",
        "print(\"Test Accuracy (Average Probabilities):\", accuracy_average_probabilities)\n",
        "print(\"Test Accuracy (Weighted Average Probabilities):\", accuracy_weighted_average_probabilities)\n"
      ]
    },
    {
      "cell_type": "markdown",
      "metadata": {
        "id": "9QS9HYJ5FW1T"
      },
      "source": [
        "**Question:** Explain your proposed methods and the reason you decided to use them!"
      ]
    },
    {
      "cell_type": "markdown",
      "metadata": {
        "id": "6hCBQuAeF46a"
      },
      "source": [
        "**Your answer:**\n",
        "\n",
        "## Proposed Ensemble Methods\n",
        "\n",
        "1. **Majority Voting:**\n",
        "   - **Method Explanation:** In the majority voting method, the final prediction is determined by the majority decision of multiple base models. Each base model makes its own prediction, and the final prediction is the class that receives the most votes among all base models.\n",
        "   - **Reason for Use:** Majority voting is a simple yet effective ensemble method that can improve predictive performance by combining the predictions of multiple models. It works well when the base models are diverse and make uncorrelated errors. By aggregating multiple predictions, it can often reduce the variance and increase the overall accuracy of the ensemble model.\n",
        "\n",
        "2. **Average Probabilities:**\n",
        "   - **Method Explanation:** In the average probabilities method, the final prediction is obtained by averaging the predicted probabilities from multiple base models. For binary classification, this means averaging the predicted probabilities of belonging to the positive class (class 1).\n",
        "   - **Reason for Use:** Averaging probabilities can provide a more nuanced prediction than simple majority voting, especially when the base models are well-calibrated and provide meaningful probabilities. It helps to smooth out the predictions and can be particularly useful when the decision threshold for classification is not critical, or when there is uncertainty about the optimal threshold.\n",
        "\n",
        "3. **Weighted Average Probabilities:**\n",
        "   - **Method Explanation:** Similar to average probabilities, in the weighted average probabilities method, the final prediction is obtained by averaging the predicted probabilities from multiple base models. However, each base model's contribution to the average is weighted according to its performance or reliability.\n",
        "   - **Reason for Use:** Weighted averaging allows you to give more importance to base models that are more accurate or have higher confidence in their predictions. This can be beneficial when some base models are more reliable or have better performance than others. By assigning appropriate weights, you can potentially improve the overall predictive performance of the ensemble model.\n",
        "\n",
        "Overall, these ensemble methods are chosen for their simplicity, effectiveness, and ability to leverage the strengths of multiple base models to improve predictive performance. The choice between these methods may depend on factors such as the characteristics of the base models, the nature of the problem, and the desired balance between simplicity and performance.\n"
      ]
    },
    {
      "cell_type": "markdown",
      "metadata": {
        "id": "jjSREvg4FTHf"
      },
      "source": [
        "**Task:** Now, for your best method, change $i$ from 2 to 100 and report $i$, train and test accuracy of the best model. Also, plot test and train accuracy for $2\\leq i\\leq100$."
      ]
    },
    {
      "cell_type": "code",
      "execution_count": 47,
      "metadata": {
        "id": "tfKS-Jq0-v4P"
      },
      "outputs": [
        {
          "name": "stdout",
          "output_type": "stream",
          "text": [
            "For i=2: Train Accuracy: 0.8118694197971087, Test Accuracy: 0.8131564400221116\n",
            "For i=3: Train Accuracy: 0.8122840478757222, Test Accuracy: 0.814262023217247\n",
            "For i=4: Train Accuracy: 0.8119247035409238, Test Accuracy: 0.8129353233830846\n",
            "For i=5: Train Accuracy: 0.8123393316195373, Test Accuracy: 0.8132669983416252\n",
            "For i=6: Train Accuracy: 0.8118970616690162, Test Accuracy: 0.8134881149806523\n",
            "For i=7: Train Accuracy: 0.8126433922105205, Test Accuracy: 0.8149253731343283\n",
            "For i=8: Train Accuracy: 0.8122011222599994, Test Accuracy: 0.8134881149806523\n",
            "For i=9: Train Accuracy: 0.8123946153633524, Test Accuracy: 0.8133775566611388\n",
            "For i=10: Train Accuracy: 0.8124775409790751, Test Accuracy: 0.814262023217247\n",
            "For i=11: Train Accuracy: 0.8117864941813859, Test Accuracy: 0.8144831398562742\n",
            "For i=12: Train Accuracy: 0.8121181966442768, Test Accuracy: 0.812824765063571\n",
            "For i=13: Train Accuracy: 0.8125881084667054, Test Accuracy: 0.81404090657822\n",
            "For i=14: Train Accuracy: 0.8128368853138734, Test Accuracy: 0.81404090657822\n",
            "For i=15: Train Accuracy: 0.8120629129004616, Test Accuracy: 0.8139303482587065\n",
            "For i=16: Train Accuracy: 0.8120905547723691, Test Accuracy: 0.8138197899391929\n",
            "For i=17: Train Accuracy: 0.8119247035409238, Test Accuracy: 0.8122719734660033\n",
            "For i=18: Train Accuracy: 0.8118694197971087, Test Accuracy: 0.8132669983416252\n",
            "For i=19: Train Accuracy: 0.8117035685656633, Test Accuracy: 0.8135986733001659\n",
            "For i=20: Train Accuracy: 0.8119247035409238, Test Accuracy: 0.8138197899391929\n",
            "For i=21: Train Accuracy: 0.8118141360532936, Test Accuracy: 0.8143725815367606\n",
            "For i=22: Train Accuracy: 0.8118417779252011, Test Accuracy: 0.8135986733001659\n",
            "For i=23: Train Accuracy: 0.811979987284739, Test Accuracy: 0.8127142067440575\n",
            "For i=24: Train Accuracy: 0.8124498991071676, Test Accuracy: 0.8132669983416252\n",
            "For i=25: Train Accuracy: 0.8116206429499405, Test Accuracy: 0.8137092316196793\n",
            "For i=26: Train Accuracy: 0.8123669734914448, Test Accuracy: 0.8131564400221116\n",
            "For i=27: Train Accuracy: 0.8121458385161843, Test Accuracy: 0.8124930901050305\n",
            "For i=28: Train Accuracy: 0.8123946153633524, Test Accuracy: 0.8130458817025982\n",
            "For i=29: Train Accuracy: 0.8124498991071676, Test Accuracy: 0.8131564400221116\n",
            "For i=30: Train Accuracy: 0.8120352710285541, Test Accuracy: 0.8137092316196793\n",
            "For i=31: Train Accuracy: 0.8117312104375708, Test Accuracy: 0.8139303482587065\n",
            "For i=32: Train Accuracy: 0.8123669734914448, Test Accuracy: 0.8132669983416252\n",
            "For i=33: Train Accuracy: 0.8119247035409238, Test Accuracy: 0.8131564400221116\n",
            "For i=34: Train Accuracy: 0.8123116897476297, Test Accuracy: 0.8134881149806523\n",
            "For i=35: Train Accuracy: 0.812228764131907, Test Accuracy: 0.8138197899391929\n",
            "For i=36: Train Accuracy: 0.8124775409790751, Test Accuracy: 0.8134881149806523\n",
            "For i=37: Train Accuracy: 0.8117864941813859, Test Accuracy: 0.8130458817025982\n",
            "For i=38: Train Accuracy: 0.8122840478757222, Test Accuracy: 0.8133775566611388\n",
            "For i=39: Train Accuracy: 0.8121734803880919, Test Accuracy: 0.814262023217247\n",
            "For i=40: Train Accuracy: 0.812228764131907, Test Accuracy: 0.8134881149806523\n",
            "For i=41: Train Accuracy: 0.8123393316195373, Test Accuracy: 0.81404090657822\n",
            "For i=42: Train Accuracy: 0.8121181966442768, Test Accuracy: 0.8138197899391929\n",
            "For i=43: Train Accuracy: 0.8121181966442768, Test Accuracy: 0.8137092316196793\n",
            "For i=44: Train Accuracy: 0.8121734803880919, Test Accuracy: 0.81404090657822\n",
            "For i=45: Train Accuracy: 0.8118417779252011, Test Accuracy: 0.8137092316196793\n",
            "For i=46: Train Accuracy: 0.8116482848218481, Test Accuracy: 0.8133775566611388\n",
            "For i=47: Train Accuracy: 0.811979987284739, Test Accuracy: 0.8126036484245439\n",
            "For i=48: Train Accuracy: 0.8120905547723691, Test Accuracy: 0.8137092316196793\n",
            "For i=49: Train Accuracy: 0.8123946153633524, Test Accuracy: 0.8130458817025982\n",
            "For i=50: Train Accuracy: 0.8118417779252011, Test Accuracy: 0.8143725815367606\n",
            "For i=51: Train Accuracy: 0.8123116897476297, Test Accuracy: 0.8141514648977336\n",
            "For i=52: Train Accuracy: 0.81242225723526, Test Accuracy: 0.8148148148148148\n",
            "For i=53: Train Accuracy: 0.8129750946734113, Test Accuracy: 0.8144831398562742\n",
            "For i=54: Train Accuracy: 0.8125328247228902, Test Accuracy: 0.8138197899391929\n",
            "For i=55: Train Accuracy: 0.81242225723526, Test Accuracy: 0.8147042564953013\n",
            "For i=56: Train Accuracy: 0.8123946153633524, Test Accuracy: 0.8144831398562742\n",
            "For i=57: Train Accuracy: 0.8120629129004616, Test Accuracy: 0.814262023217247\n",
            "For i=58: Train Accuracy: 0.812228764131907, Test Accuracy: 0.8139303482587065\n",
            "For i=59: Train Accuracy: 0.8121181966442768, Test Accuracy: 0.8144831398562742\n",
            "For i=60: Train Accuracy: 0.8122011222599994, Test Accuracy: 0.8138197899391929\n",
            "For i=61: Train Accuracy: 0.8118694197971087, Test Accuracy: 0.8145936981757878\n",
            "For i=62: Train Accuracy: 0.8118694197971087, Test Accuracy: 0.8137092316196793\n",
            "For i=63: Train Accuracy: 0.8123116897476297, Test Accuracy: 0.8151464897733555\n",
            "For i=64: Train Accuracy: 0.8118970616690162, Test Accuracy: 0.8135986733001659\n",
            "For i=65: Train Accuracy: 0.8123116897476297, Test Accuracy: 0.8129353233830846\n",
            "For i=66: Train Accuracy: 0.8130856621610415, Test Accuracy: 0.8132669983416252\n",
            "For i=67: Train Accuracy: 0.8117588523094784, Test Accuracy: 0.8130458817025982\n",
            "For i=68: Train Accuracy: 0.8120905547723691, Test Accuracy: 0.8127142067440575\n",
            "For i=69: Train Accuracy: 0.8121181966442768, Test Accuracy: 0.81404090657822\n",
            "For i=70: Train Accuracy: 0.8117312104375708, Test Accuracy: 0.8137092316196793\n",
            "For i=71: Train Accuracy: 0.8125881084667054, Test Accuracy: 0.8139303482587065\n",
            "For i=72: Train Accuracy: 0.8117588523094784, Test Accuracy: 0.8129353233830846\n",
            "For i=73: Train Accuracy: 0.811979987284739, Test Accuracy: 0.8131564400221116\n",
            "For i=74: Train Accuracy: 0.8117588523094784, Test Accuracy: 0.8133775566611388\n",
            "For i=75: Train Accuracy: 0.81242225723526, Test Accuracy: 0.8133775566611388\n",
            "For i=76: Train Accuracy: 0.812228764131907, Test Accuracy: 0.8131564400221116\n",
            "For i=77: Train Accuracy: 0.8118141360532936, Test Accuracy: 0.8144831398562742\n",
            "For i=78: Train Accuracy: 0.8121181966442768, Test Accuracy: 0.8147042564953013\n",
            "For i=79: Train Accuracy: 0.8120905547723691, Test Accuracy: 0.814262023217247\n",
            "For i=80: Train Accuracy: 0.8117588523094784, Test Accuracy: 0.81404090657822\n",
            "For i=81: Train Accuracy: 0.8125604665947977, Test Accuracy: 0.8133775566611388\n",
            "For i=82: Train Accuracy: 0.8123116897476297, Test Accuracy: 0.8131564400221116\n",
            "For i=83: Train Accuracy: 0.8127263178262432, Test Accuracy: 0.8141514648977336\n",
            "For i=84: Train Accuracy: 0.8118141360532936, Test Accuracy: 0.812824765063571\n",
            "For i=85: Train Accuracy: 0.8118694197971087, Test Accuracy: 0.8137092316196793\n",
            "For i=86: Train Accuracy: 0.8127539596981508, Test Accuracy: 0.8137092316196793\n",
            "For i=87: Train Accuracy: 0.8123669734914448, Test Accuracy: 0.8143725815367606\n",
            "For i=88: Train Accuracy: 0.8124775409790751, Test Accuracy: 0.8135986733001659\n",
            "For i=89: Train Accuracy: 0.8116759266937557, Test Accuracy: 0.8147042564953013\n",
            "For i=90: Train Accuracy: 0.8117864941813859, Test Accuracy: 0.8122719734660033\n",
            "For i=91: Train Accuracy: 0.8120629129004616, Test Accuracy: 0.8141514648977336\n",
            "For i=92: Train Accuracy: 0.8123116897476297, Test Accuracy: 0.8139303482587065\n",
            "For i=93: Train Accuracy: 0.8118970616690162, Test Accuracy: 0.8133775566611388\n",
            "For i=94: Train Accuracy: 0.8128092434419659, Test Accuracy: 0.8124930901050305\n",
            "For i=95: Train Accuracy: 0.8119523454128313, Test Accuracy: 0.8130458817025982\n",
            "For i=96: Train Accuracy: 0.8123393316195373, Test Accuracy: 0.8134881149806523\n",
            "For i=97: Train Accuracy: 0.8119247035409238, Test Accuracy: 0.8134881149806523\n",
            "For i=98: Train Accuracy: 0.8116206429499405, Test Accuracy: 0.8131564400221116\n",
            "For i=99: Train Accuracy: 0.8115100754623104, Test Accuracy: 0.812824765063571\n",
            "For i=100: Train Accuracy: 0.8122564060038145, Test Accuracy: 0.8148148148148148\n"
          ]
        },
        {
          "data": {
            "image/png": "[encoded data removed]",
            "text/plain": [
              "<Figure size 1000x600 with 1 Axes>"
            ]
          },
          "metadata": {},
          "output_type": "display_data"
        }
      ],
      "source": [
        "train_accuracies = []\n",
        "test_accuracies = []\n",
        "for i in range(2, 101):\n",
        "    \n",
        "    X_train_parts = np.array_split(X_train_scaled, i)\n",
        "    y_train_parts = np.array_split(y_train, i)\n",
        "\n",
        "    models = []\n",
        "    for j in range(i):\n",
        "        model = MyLogisticRegression(learning_rate=0.01, epochs=1000)\n",
        "        model.fit(X_train_parts[j], y_train_parts[j])\n",
        "        models.append(model)\n",
        "\n",
        "    y_train_pred = majority_voting(models, X_train_scaled)\n",
        "    y_test_pred = majority_voting(models, X_test_scaled)\n",
        "\n",
        "    train_accuracy = accuracy_score(y_train, y_train_pred)\n",
        "    test_accuracy = accuracy_score(y_test, y_test_pred)\n",
        "\n",
        "    train_accuracies.append(train_accuracy)\n",
        "    test_accuracies.append(test_accuracy)\n",
        "\n",
        "    print(f\"For i={i}: Train Accuracy: {train_accuracy}, Test Accuracy: {test_accuracy}\")\n",
        "\n",
        "\n",
        "plt.figure(figsize=(10, 6))\n",
        "plt.plot(range(2, 101), train_accuracies, label='Train Accuracy')\n",
        "plt.plot(range(2, 101), test_accuracies, label='Test Accuracy')\n",
        "plt.title('Train and Test Accuracies vs. Number of Models (i)')\n",
        "plt.xlabel('Number of Models (i)')\n",
        "plt.ylabel('Accuracy')\n",
        "plt.legend()\n",
        "plt.grid(True)\n",
        "plt.show()\n"
      ]
    },
    {
      "cell_type": "code",
      "execution_count": 45,
      "metadata": {},
      "outputs": [],
      "source": [
        "import warnings\n",
        "warnings.filterwarnings(\"ignore\", category=FutureWarning)\n"
      ]
    },
    {
      "cell_type": "markdown",
      "metadata": {
        "id": "BWV0YUgRGg1p"
      },
      "source": [
        "**Question:** Analyze the results."
      ]
    },
    {
      "cell_type": "markdown",
      "metadata": {},
      "source": [
        "**Your Answer:**\n",
        "\n",
        "## Effects of Adding More Models to Ensemble Methods\n",
        "\n",
        "1. **Improved Generalization:**\n",
        "   - As you add more diverse base models to the ensemble, it often leads to improved generalization performance. Each base model may capture different aspects of the data and make different errors. By combining their predictions, the ensemble can effectively smooth out individual errors and make more accurate predictions on unseen data.\n",
        "\n",
        "2. **Reduced Variance:**\n",
        "   - Ensemble methods work by averaging or combining the predictions of multiple models. As you add more models to the ensemble, the variance of the ensemble typically decreases. This is because the individual errors of each model tend to cancel out when averaged over many predictions, resulting in a more stable and reliable prediction.\n",
        "\n",
        "3. **Increased Complexity:**\n",
        "   - Adding more models to the ensemble increases the complexity of the overall system. This can lead to longer training times and increased computational resources required for prediction. Additionally, a more complex ensemble may be harder to interpret and debug, especially if there are many different types of base models with different hyperparameters.\n",
        "\n",
        "4. **Diminishing Returns:**\n",
        "   - While adding more models to the ensemble initially improves performance, there is a point of diminishing returns where the marginal benefit of adding additional models decreases. After a certain point, the improvement in performance becomes marginal, and the computational cost of adding more models may outweigh the benefits.\n",
        "\n",
        "5. **Overfitting Risk:**\n",
        "   - Adding more models to the ensemble increases the risk of overfitting, especially if the base models are highly complex or if there is noise in the training data. It's important to monitor the performance of the ensemble on a separate validation set and potentially use techniques like early stopping or regularization to prevent overfitting.\n",
        "\n",
        "Overall, adding more models to ensemble methods can lead to improved generalization, reduced variance, and more robust predictions. However, it's essential to balance the benefits of adding more models with the increased complexity and computational costs, as well as the risk of overfitting. Experimentation and validation on separate datasets are crucial for determining the optimal size and composition of the ensemble.\n"
      ]
    }
  ],
  "metadata": {
    "colab": {
      "provenance": []
    },
    "kernelspec": {
      "display_name": "Python 3",
      "name": "python3"
    },
    "language_info": {
      "codemirror_mode": {
        "name": "ipython",
        "version": 3
      },
      "file_extension": ".py",
      "mimetype": "text/x-python",
      "name": "python",
      "nbconvert_exporter": "python",
      "pygments_lexer": "ipython3",
      "version": "3.11.5"
    }
  },
  "nbformat": 4,
  "nbformat_minor": 0
}

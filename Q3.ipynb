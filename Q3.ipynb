{
 "cells": [
  {
   "cell_type": "markdown",
   "id": "5f42a3ce",
   "metadata": {},
   "source": [
    "<h1 align=\"center\">Introduction to Machine Learning - 25737-2</h1>\n",
    "<h4 align=\"center\">Dr. R. Amiri</h4>\n",
    "<h4 align=\"center\">Sharif University of Technology, Spring 2024</h4>\n",
    "\n",
    "\n",
    "**<font color='red'>Plagiarism is strongly prohibited!</font>**\n",
    "\n",
    "\n",
    "**Student Name**: Mohammad Armin Dehghan \n",
    "\n",
    "**Student ID**: 400101175\n",
    "\n",
    "\n",
    "\n"
   ]
  },
  {
   "cell_type": "markdown",
   "id": "a01c559e",
   "metadata": {},
   "source": [
    "## Importing Libraries\n",
    "\n",
    "First we import libraries that we need for this assignment."
   ]
  },
  {
   "cell_type": "code",
   "execution_count": 1,
   "id": "0423187e",
   "metadata": {},
   "outputs": [],
   "source": [
    "import numpy as np\n",
    "import pandas as pd\n",
    "import matplotlib.pyplot as plt\n",
    "from sklearn.model_selection import train_test_split\n",
    "from sklearn.metrics import accuracy_score\n",
    "from sklearn.naive_bayes import GaussianNB\n",
    "from sklearn.discriminant_analysis import LinearDiscriminantAnalysis\n",
    "\n"
   ]
  },
  {
   "cell_type": "markdown",
   "id": "2f795731",
   "metadata": {},
   "source": [
    "## Reading Data and Preprocessing\n",
    "\n",
    "In this section, we want to read data from a CSV file and then preprocess it to make it ready for the rest of the problem.\n",
    "\n",
    "First, we read the data in the cell below and extract an $m \\times n$ matrix, $X$, and an $m \\times 1$ vector, $Y$, from it, which represent our knowledge about the features of the data (`X1`, `X2`, `X3`) and the class (`Y`), respectively. Note that by $m$, we mean the number of data points and by $n$, we mean the number of features."
   ]
  },
  {
   "cell_type": "code",
   "execution_count": 2,
   "id": "410e750d",
   "metadata": {},
   "outputs": [
    {
     "name": "stdout",
     "output_type": "stream",
     "text": [
      "Shape of X: (10000, 3)\n",
      "Shape of Y: (10000,)\n"
     ]
    }
   ],
   "source": [
    "X, Y = None, None\n",
    "df = pd.read_csv(\"data2_logistic.csv\")\n",
    "X = df[['X1', 'X2', 'X3']]\n",
    "Y = df['Y']\n",
    "\n",
    "print(\"Shape of X:\", X.shape)\n",
    "print(\"Shape of Y:\", Y.shape)\n",
    "\n"
   ]
  },
  {
   "cell_type": "markdown",
   "id": "866734e2",
   "metadata": {},
   "source": [
    "Next, we should normalize our data. For normalizing a vector $\\mathbf{x}$, a very common method is to use this formula:\n",
    "\n",
    "$$\n",
    "\\mathbf{x}_{norm} = \\dfrac{\\mathbf{x} - \\overline{\\mathbf{x}}}{\\sigma_\\mathbf{x}}\n",
    "$$\n",
    "\n",
    "Here, $\\overline{x}$ and $\\sigma_\\mathbf{x}$ denote the mean and standard deviation of vector $\\mathbf{x}$, respectively. Use this formula and store the new $X$ and $Y$ vectors in the cell below.\n",
    "\n",
    "**Question**: Briefly explain why we need to normalize our data before starting the training.\n",
    "\n",
    "**Answer**:\n",
    "\n",
    "\n",
    "1. **Improving Convergence**: Normalizing data helps gradient-based optimization algorithms converge faster. When features are on different scales, the optimization process can be slower or may not converge at all. Normalization ensures that each feature contributes proportionally to the learning process.\n",
    "\n",
    "2. **Avoiding Numerical Instability**: Large differences in the scale of features can lead to numerical instability, particularly in algorithms that involve computations like matrix inversions or multiplications. Normalization reduces the chances of such numerical instabilities.\n",
    "\n",
    "3. **Enhancing Model Performance**: Normalization can improve the performance of certain algorithms, especially those based on distance metrics or regularization techniques. By ensuring that features are on similar scales, the model can better learn the underlying patterns in the data.\n",
    "\n",
    "4. **Interpretability**: Normalized data can be easier to interpret, as the importance of each feature is not influenced by its scale. This can help in understanding the relative impact of different features on the model's predictions.\n",
    "\n",
    "Overall, data normalization is a crucial preprocessing step that ensures the stability, convergence, and performance of machine learning models.\n"
   ]
  },
  {
   "cell_type": "code",
   "execution_count": 3,
   "id": "9e757eb0",
   "metadata": {},
   "outputs": [
    {
     "data": {
      "text/html": [
       "<div>\n",
       "<style scoped>\n",
       "    .dataframe tbody tr th:only-of-type {\n",
       "        vertical-align: middle;\n",
       "    }\n",
       "\n",
       "    .dataframe tbody tr th {\n",
       "        vertical-align: top;\n",
       "    }\n",
       "\n",
       "    .dataframe thead th {\n",
       "        text-align: right;\n",
       "    }\n",
       "</style>\n",
       "<table border=\"1\" class=\"dataframe\">\n",
       "  <thead>\n",
       "    <tr style=\"text-align: right;\">\n",
       "      <th></th>\n",
       "      <th>X1</th>\n",
       "      <th>X2</th>\n",
       "      <th>X3</th>\n",
       "    </tr>\n",
       "  </thead>\n",
       "  <tbody>\n",
       "    <tr>\n",
       "      <th>0</th>\n",
       "      <td>-0.397146</td>\n",
       "      <td>-0.186215</td>\n",
       "      <td>1.399655</td>\n",
       "    </tr>\n",
       "    <tr>\n",
       "      <th>1</th>\n",
       "      <td>-1.386833</td>\n",
       "      <td>1.674903</td>\n",
       "      <td>0.078821</td>\n",
       "    </tr>\n",
       "    <tr>\n",
       "      <th>2</th>\n",
       "      <td>-1.586014</td>\n",
       "      <td>0.017019</td>\n",
       "      <td>1.684213</td>\n",
       "    </tr>\n",
       "    <tr>\n",
       "      <th>3</th>\n",
       "      <td>-0.289080</td>\n",
       "      <td>-0.434223</td>\n",
       "      <td>0.887443</td>\n",
       "    </tr>\n",
       "    <tr>\n",
       "      <th>4</th>\n",
       "      <td>0.454570</td>\n",
       "      <td>-1.248866</td>\n",
       "      <td>0.707742</td>\n",
       "    </tr>\n",
       "    <tr>\n",
       "      <th>...</th>\n",
       "      <td>...</td>\n",
       "      <td>...</td>\n",
       "      <td>...</td>\n",
       "    </tr>\n",
       "    <tr>\n",
       "      <th>9995</th>\n",
       "      <td>-1.127759</td>\n",
       "      <td>0.076140</td>\n",
       "      <td>0.035070</td>\n",
       "    </tr>\n",
       "    <tr>\n",
       "      <th>9996</th>\n",
       "      <td>-0.324092</td>\n",
       "      <td>-1.782389</td>\n",
       "      <td>1.503022</td>\n",
       "    </tr>\n",
       "    <tr>\n",
       "      <th>9997</th>\n",
       "      <td>1.212344</td>\n",
       "      <td>-0.697698</td>\n",
       "      <td>-0.230412</td>\n",
       "    </tr>\n",
       "    <tr>\n",
       "      <th>9998</th>\n",
       "      <td>-1.637735</td>\n",
       "      <td>-1.459527</td>\n",
       "      <td>-0.164010</td>\n",
       "    </tr>\n",
       "    <tr>\n",
       "      <th>9999</th>\n",
       "      <td>1.378907</td>\n",
       "      <td>-1.176827</td>\n",
       "      <td>-0.874443</td>\n",
       "    </tr>\n",
       "  </tbody>\n",
       "</table>\n",
       "<p>10000 rows × 3 columns</p>\n",
       "</div>"
      ],
      "text/plain": [
       "            X1        X2        X3\n",
       "0    -0.397146 -0.186215  1.399655\n",
       "1    -1.386833  1.674903  0.078821\n",
       "2    -1.586014  0.017019  1.684213\n",
       "3    -0.289080 -0.434223  0.887443\n",
       "4     0.454570 -1.248866  0.707742\n",
       "...        ...       ...       ...\n",
       "9995 -1.127759  0.076140  0.035070\n",
       "9996 -0.324092 -1.782389  1.503022\n",
       "9997  1.212344 -0.697698 -0.230412\n",
       "9998 -1.637735 -1.459527 -0.164010\n",
       "9999  1.378907 -1.176827 -0.874443\n",
       "\n",
       "[10000 rows x 3 columns]"
      ]
     },
     "execution_count": 3,
     "metadata": {},
     "output_type": "execute_result"
    }
   ],
   "source": [
    "X_mean = np.mean(X, axis=0)\n",
    "X_std = np.std(X, axis=0)\n",
    "\n",
    "X_norm = (X - X_mean) / X_std\n",
    "\n",
    "X_norm"
   ]
  },
  {
   "cell_type": "markdown",
   "id": "5465bfa4",
   "metadata": {},
   "source": [
    "Finally, we should add a column of $1$s at the beginning of $X$ to represent the bias term. Do this in the next cell. Note that after this process, $X$ should be an $m \\times (n+1)$ matrix."
   ]
  },
  {
   "cell_type": "code",
   "execution_count": 4,
   "id": "b9a60f1f",
   "metadata": {},
   "outputs": [
    {
     "name": "stdout",
     "output_type": "stream",
     "text": [
      "Shape of X_with_bias: (10000, 4)\n"
     ]
    }
   ],
   "source": [
    "X_with_bias = np.hstack((np.ones((X_norm.shape[0], 1)), X_norm))\n",
    "\n",
    "print(\"Shape of X_with_bias:\", X_with_bias.shape)"
   ]
  },
  {
   "cell_type": "markdown",
   "id": "5cdf0d78",
   "metadata": {},
   "source": [
    "## Training Model"
   ]
  },
  {
   "cell_type": "markdown",
   "id": "c8714abe",
   "metadata": {},
   "source": [
    "### Sigmoid Function\n",
    "You should begin by implementing the $\\sigma(\\mathbf{x})$ function. Recall that the logistic regression hypothesis $\\mathcal{h}()$ is defined as:\n",
    "$$\n",
    "\\mathcal{h}_{\\theta}(\\mathbf{x}) = \\mathcal{g}(\\theta^\\mathbf{T}\\mathbf{x})\n",
    "$$\n",
    "where $\\mathcal{g}()$ is the sigmoid function as:\n",
    "$$\n",
    "\\mathcal{g}(\\mathbf{z}) = \\frac{1}{1+exp^{-\\mathbf{z}}}\n",
    "$$\n",
    "The Sigmoid function has the property that $\\mathbf{g}(+\\infty)\\approx 1$ and $\\mathcal{g}(−\\infty)\\approx0$. Test your function by calling `sigmoid(z)` on different test samples. Be certain that your sigmoid function works with both vectors and matrices - for either a vector or a matrix, your function should perform the sigmoid function on every element."
   ]
  },
  {
   "cell_type": "code",
   "execution_count": 5,
   "id": "6a6b6ae4",
   "metadata": {},
   "outputs": [],
   "source": [
    "def sigmoid(z):\n",
    "    g = 1 / (1 + np.exp(-z))\n",
    "    return g"
   ]
  },
  {
   "cell_type": "code",
   "execution_count": 6,
   "id": "1ed60330",
   "metadata": {},
   "outputs": [
    {
     "name": "stdout",
     "output_type": "stream",
     "text": [
      "Sigmoid of scalar input: 0.5\n",
      "Sigmoid of vector input:\n",
      "[0.26894142 0.5        0.73105858]\n",
      "Sigmoid of matrix input:\n",
      "[[0.26894142 0.5       ]\n",
      " [0.5        0.73105858]]\n"
     ]
    }
   ],
   "source": [
    "# testing the functions \n",
    "\n",
    "z_scalar = 0\n",
    "print(\"Sigmoid of scalar input:\", sigmoid(z_scalar))\n",
    "\n",
    "z_vector = np.array([-1, 0, 1])\n",
    "print(\"Sigmoid of vector input:\")\n",
    "print(sigmoid(z_vector))\n",
    "\n",
    "z_matrix = np.array([[-1, 0], [0, 1]])\n",
    "print(\"Sigmoid of matrix input:\")\n",
    "print(sigmoid(z_matrix))\n"
   ]
  },
  {
   "cell_type": "markdown",
   "id": "83846074",
   "metadata": {},
   "source": [
    "### Cost Function \n",
    "Implement the functions to compute the cost function. Recall the cost function for logistic regression is a scalar value given by:\n",
    "$$\n",
    "\\mathcal{J}(\\theta) = \\sum_{i=1}^{n}[-y^{(i)}\\log{(\\mathcal{h}_\\theta(\\mathbf{x}^{(i)}))}-(1-y^{(i)})\\log{(1-\\mathcal{h}_\\theta(\\mathbf{x}^{(i)}))}] + \\frac{\\lambda}{2}||\\theta||_2^2\n",
    "$$"
   ]
  },
  {
   "cell_type": "code",
   "execution_count": 7,
   "id": "26a9bdeb",
   "metadata": {},
   "outputs": [],
   "source": [
    "def computeCost(theta, X, y, regLambda):\n",
    "    '''\n",
    "    Computes the objective function\n",
    "    Arguments:\n",
    "        theta is d-dimensional numpy vector\n",
    "        X is a n-by-d numpy matrix\n",
    "        y is an n-dimensional numpy vector\n",
    "        regLambda is the scalar regularization constant\n",
    "    Returns:\n",
    "        a scalar value of the cost  ** make certain you're not returning a 1 x 1 matrix! **\n",
    "    '''\n",
    "\n",
    "    m = len(y)\n",
    "    h = sigmoid(np.dot(X, theta))\n",
    "    regularization_term = ( regLambda/ (2 * m)) * np.sum(theta[1:]**2)\n",
    "    loss = np.sum(-y * np.log(h) - (1 - y) * np.log(1 - h)) / m + regularization_term\n",
    "    return loss"
   ]
  },
  {
   "cell_type": "markdown",
   "id": "6eaf1146",
   "metadata": {},
   "source": [
    "### Gradient of the Cost Function\n",
    "Now, we want to calculate the gradient of the cost function. The gradient of the cost function is a d-dimensional vector.\\\n",
    "We must be careful not to regularize the $\\theta_0$ parameter (corresponding to the first feature we add to each instance), and so the 0's element is given by:\n",
    "$$\n",
    "\\frac{\\partial \\mathcal{J}(\\theta)}{\\partial \\theta_0} = \\sum_{i=1}^n (\\mathcal{h}_\\theta(\\mathbf{x}^{(i)})-y^{(i)})\n",
    "$$\n",
    "\n",
    "Question: What is the answer to this problem for the $j^{th}$ element (for $j=1...d$)?\n",
    "\n",
    "**Answer:**\n",
    "For the $j^{th}$ element (for $j=1...d$) of the gradient of the cost function, we need to calculate the partial derivative with respect to $\\theta_j$. This can be done using the following formula:\n",
    "\n",
    "$$\n",
    "\\frac{\\partial \\mathcal{J}(\\theta)}{\\partial \\theta_j} = \\sum_{i=1}^n (\\mathcal{h}_\\theta(\\mathbf{x}^{(i)})-y^{(i)}) \\cdot x_j^{(i)} + \\lambda \\theta_j\n",
    "$$\n",
    "\n",
    "Where:\n",
    "- $\\mathcal{J}(\\theta)$ is the cost function.\n",
    "- $\\mathcal{h}_\\theta(\\mathbf{x}^{(i)})$ is the hypothesis function.\n",
    "- $y^{(i)}$ is the actual output.\n",
    "- $x_j^{(i)}$ is the $j^{th}$ feature of the $i^{th}$ instance.\n",
    "- $\\lambda$ is the regularization parameter.\n",
    "- $\\theta_j$ is the $j^{th}$ parameter.\n",
    "\n",
    "This formula represents the regularized gradient descent update rule for $\\theta_j$. The first term represents the contribution of the $j^{th}$ feature to the error, and the second term represents the regularization term, which penalizes large values of $\\theta_j$ to prevent overfitting. \n",
    "\n",
    "However, as specified in the question, we don't regularize the $\\theta_0$ parameter. So, for $j=0$, the regularization term is omitted:\n",
    "\n",
    "$$\n",
    "\\frac{\\partial \\mathcal{J}(\\theta)}{\\partial \\theta_0} = \\sum_{i=1}^n (\\mathcal{h}_\\theta(\\mathbf{x}^{(i)})-y^{(i)})\n",
    "$$ \n",
    "\n",
    "This is because $\\theta_0$ corresponds to the bias term and is not associated with any feature.\n"
   ]
  },
  {
   "cell_type": "code",
   "execution_count": 8,
   "id": "35f7c2dd",
   "metadata": {},
   "outputs": [],
   "source": [
    "def computeGradient(theta, X, y, regLambda):\n",
    "    '''\n",
    "    Computes the gradient of the objective function\n",
    "    Arguments:\n",
    "        theta is d-dimensional numpy vector\n",
    "        X is a n-by-d numpy matrix\n",
    "        y is an n-dimensional numpy vector\n",
    "        regLambda is the scalar regularization constant\n",
    "    Returns:\n",
    "        the gradient, an d-dimensional vector\n",
    "    '''\n",
    "    m = len(y)\n",
    "    h = sigmoid(np.dot(X, theta))\n",
    "    gradient = np.dot(X.T, (h - y)) / m\n",
    "    gradient[1:] += (regLambda / m) * theta[1:]\n",
    "    gradient[0] -= (regLambda / m) * theta[0]  # no regularization for theta_0\n",
    "    return gradient"
   ]
  },
  {
   "cell_type": "markdown",
   "id": "24bc86bd",
   "metadata": {},
   "source": [
    "### Training and Prediction\n",
    "Once you have the cost and gradient functions complete, implemen tthe fit and predict methods.\\\n",
    "Your fit method should train the model via gradient descent, relying on the cost and gradient functions. This function should return two parameters. The first parameter is $\\theta$, and the second parameter is a `numpy` array that contains the loss in each iteration. This array is indicated by `loss_history` in the code.\\\n",
    "Instead of simply running gradient descent for a specific number of iterations, we will use a more sophisticated method: we will stop it after the solution hasconverged. Stop the gradient descent procedure when $\\theta$ stops changing between consecutive iterations. You can detect this convergence when:\n",
    "$$\n",
    "||\\theta_{new}-\\theta_{old}||_2 <= \\epsilon,\n",
    "$$\n",
    "for some small $\\epsilon$ (e.g, $\\epsilon=10E-4$).\\\n",
    "For readability, we’d recommend implementing this convergence test as a dedicated function `hasConverged`."
   ]
  },
  {
   "cell_type": "code",
   "execution_count": 9,
   "id": "cc0cad78",
   "metadata": {},
   "outputs": [],
   "source": [
    "def fit(X, y, regLambda = 0.01, alpha = 0.01, epsilon = 1e-4, maxNumIters = 100):\n",
    "    '''\n",
    "    Trains the model\n",
    "    Arguments:\n",
    "        X           is a n-by-d numpy matrix\n",
    "        y           is an n-dimensional numpy vector\n",
    "        maxNumIters is the maximum number of gradient descent iterations\n",
    "        regLambda   is the scalar regularization constant\n",
    "        epsilon     is the convergence rate\n",
    "        alpha       is the gradient descent learning rate\n",
    "    '''\n",
    "    \n",
    "    m, n = X.shape\n",
    "    theta = np.zeros(n)\n",
    "    loss_history = []\n",
    "    for _ in range(maxNumIters):\n",
    "        \n",
    "        gradient = computeGradient(theta, X, y, regLambda)\n",
    "        theta_new = theta - alpha * gradient\n",
    "\n",
    "        theta_old = theta\n",
    "        theta = theta_new\n",
    "        \n",
    "        loss = computeCost(theta , X, y,regLambda)\n",
    "        loss_history.append(loss)\n",
    "        \n",
    "        if hasConverged(theta_old, theta_new, epsilon):\n",
    "            break\n",
    "        \n",
    "        \n",
    "    \n",
    "    return theta, np.array(loss_history)\n",
    "\n",
    "\n",
    "\n",
    "def hasConverged(theta_old, theta_new, epsilon):\n",
    "    '''\n",
    "    Return if the theta converged or not\n",
    "    Arguments:\n",
    "        theta_old   is the theta calculated in prevoius iteration\n",
    "        theta_new   is the theta calculated in current iteration\n",
    "        epsilon     is the convergence rate\n",
    "    '''\n",
    "    return np.linalg.norm(theta_new - theta_old) <= epsilon"
   ]
  },
  {
   "cell_type": "markdown",
   "id": "bb648852",
   "metadata": {},
   "source": [
    "Finally, we want to evaluate our loss for this problem. Complete the cell below to calculate and print the loss of each iteration and the final theta of your model."
   ]
  },
  {
   "cell_type": "code",
   "execution_count": 85,
   "id": "252e556f",
   "metadata": {},
   "outputs": [
    {
     "name": "stdout",
     "output_type": "stream",
     "text": [
      "[-0.07917597 -0.12794085  0.34107905  0.00717197]\n",
      "[0.69138091 0.68962349 0.6878749  0.68613508 0.68440399 0.68268159\n",
      " 0.68096783 0.67926266 0.67756604 0.67587794 0.67419829 0.67252707\n",
      " 0.67086422 0.6692097  0.66756347 0.66592549 0.6642957  0.66267408\n",
      " 0.66106056 0.65945512 0.65785771 0.65626828 0.65468679 0.6531132\n",
      " 0.65154746 0.64998954 0.64843939 0.64689697 0.64536224 0.64383515\n",
      " 0.64231566 0.64080374 0.63929933 0.63780241 0.63631291 0.63483082\n",
      " 0.63335608 0.63188865 0.63042849 0.62897557 0.62752984 0.62609126\n",
      " 0.62465978 0.62323539 0.62181802 0.62040764 0.61900422 0.6176077\n",
      " 0.61621806 0.61483526 0.61345925 0.61209    0.61072746 0.6093716\n",
      " 0.60802239 0.60667978 0.60534373 0.60401422 0.60269119 0.60137461\n",
      " 0.60006445 0.59876067 0.59746323 0.5961721  0.59488723 0.5936086\n",
      " 0.59233616 0.59106988 0.58980972 0.58855566 0.58730764 0.58606565\n",
      " 0.58482963 0.58359957 0.58237541 0.58115714 0.5799447  0.57873808\n",
      " 0.57753723 0.57634213 0.57515273 0.573969   0.57279092 0.57161844\n",
      " 0.57045154 0.56929018 0.56813433 0.56698396 0.56583903 0.56469951\n",
      " 0.56356537 0.56243659 0.56131311 0.56019493 0.559082   0.55797429\n",
      " 0.55687177 0.55577442 0.55468219 0.55359507]\n"
     ]
    }
   ],
   "source": [
    "theta, loss_history = fit(X_with_bias, Y) \n",
    "\n",
    "print(theta)\n",
    "print(loss_history)"
   ]
  },
  {
   "cell_type": "markdown",
   "id": "f4b3fab6",
   "metadata": {},
   "source": [
    "### Testing Your Implementation\n",
    "To test your logistic regression implementation, first you should use `train_test_split` function to split dataset into three parts:\n",
    "\n",
    "- 70% for the training set\n",
    "- 20% for the validation set\n",
    "- 10% for the test set\n",
    "\n",
    "Do this in the cell below."
   ]
  },
  {
   "cell_type": "code",
   "execution_count": 10,
   "id": "4518fe11",
   "metadata": {},
   "outputs": [
    {
     "name": "stdout",
     "output_type": "stream",
     "text": [
      "Training set: (7000, 4) (7000,)\n",
      "Validation set: (2010, 4) (2010,)\n",
      "Test set: (990, 4) (990,)\n"
     ]
    }
   ],
   "source": [
    "X_train, X_temp, y_train, y_temp = train_test_split(X_with_bias, Y, test_size=0.3, random_state=42)\n",
    "X_val, X_test, y_val, y_test = train_test_split(X_temp, y_temp, test_size=0.33, random_state=42)\n",
    "\n",
    "# Print the shapes of the resulting sets\n",
    "print(\"Training set:\", X_train.shape, y_train.shape)\n",
    "print(\"Validation set:\", X_val.shape, y_val.shape)\n",
    "print(\"Test set:\", X_test.shape, y_test.shape)"
   ]
  },
  {
   "cell_type": "markdown",
   "id": "f9fbe5d7",
   "metadata": {},
   "source": [
    "Then, you should complete `predict` function to find the weight vector and the loss on the test data."
   ]
  },
  {
   "cell_type": "code",
   "execution_count": 88,
   "id": "95c2fe20",
   "metadata": {},
   "outputs": [],
   "source": [
    "def predict(X, theta):\n",
    "    \n",
    "    '''\n",
    "    Use the model to predict values for each instance in X\n",
    "    Arguments:\n",
    "        theta is d-dimensional numpy vector\n",
    "        X     is a n-by-d numpy matrix\n",
    "    Returns:\n",
    "        an n-dimensional numpy vector of the predictions, the output should be binary (use h_theta > .5)\n",
    "    '''\n",
    "    h_theta = sigmoid(np.dot(X, theta))\n",
    "    predictions = (h_theta > 0.5).astype(int)\n",
    "    \n",
    "    return predictions"
   ]
  },
  {
   "cell_type": "markdown",
   "id": "246d1c02",
   "metadata": {},
   "source": [
    "Now, run the `fit` and `predict` function for different values of the learning rate and regularization constant. Plot the `loss_history` of these different values for train and test data both in the same figure.\n",
    "\n",
    "**Question**: Discuss the effect of the learning rate and regularization constant and find the best values of these parameters.\n",
    "\n",
    "**Answer**:\n",
    "\n",
    "### Learning Rate:\n",
    "The learning rate controls the size of the steps taken during optimization. It influences the convergence speed and the stability of the learning process.\n",
    "\n",
    "- **Effect on Convergence**: If the learning rate is too large, the optimization algorithm might overshoot the minimum and fail to converge. Conversely, if it's too small, the algorithm might take too long to converge or get stuck in a local minimum.\n",
    "  \n",
    "- **Stability and Robustness**: A well-tuned learning rate helps stabilize the optimization process, ensuring that the model converges efficiently without oscillating or diverging.\n",
    "\n",
    "- **Impact on Training Time**: A higher learning rate can lead to faster convergence, reducing training time. However, it requires careful tuning to avoid overshooting. Conversely, a lower learning rate might lead to slower convergence but can produce more stable results.\n",
    "\n",
    "### Regularization Constant (Lambda):\n",
    "Regularization is a technique used to prevent overfitting by adding a penalty term to the loss function. The regularization constant controls the strength of this penalty.\n",
    "\n",
    "- **Effect on Model Complexity**: A higher regularization constant penalizes complex models more strongly, encouraging simpler models. This can help prevent overfitting by discouraging the model from fitting noise in the training data.\n",
    "  \n",
    "- **Bias-Variance Tradeoff**: Increasing the regularization constant typically increases bias while reducing variance. This means the model might become less flexible but more generalizable.\n",
    "\n",
    "- **Tuning for Generalization**: The regularization constant needs to be carefully tuned to strike a balance between bias and variance, optimizing the model's ability to generalize to unseen data.\n",
    "\n",
    "- **Impact on Model Performance**: Too low regularization may lead to overfitting, while too high regularization may lead to underfitting. Finding the right value involves experimentation and validation on a separate validation dataset.\n",
    "\n",
    "### Interaction:\n",
    "The learning rate and regularization constant can interact in complex ways. For example, a higher learning rate might require stronger regularization to prevent overfitting, while a lower learning rate might tolerate less regularization. Careful experimentation and cross-validation are necessary to find the optimal combination for a specific dataset and model architecture.\n",
    "\n",
    "In summary, both the learning rate and regularization constant play crucial roles in training machine learning models. Finding the right balance between them is essential for achieving good performance, generalization, and convergence.\n"
   ]
  },
  {
   "cell_type": "code",
   "execution_count": 95,
   "id": "cd2af382",
   "metadata": {},
   "outputs": [
    {
     "name": "stdout",
     "output_type": "stream",
     "text": [
      "Learning Rate: 0.01, Regularization Constant: 0.01\n",
      "Train Loss: 0.5546027758455185, Test Loss: 0.5526605838713072\n",
      "Learning Rate: 0.01, Regularization Constant: 0.1\n",
      "Train Loss: 0.5546043045341296, Test Loss: 0.552667255254726\n",
      "Learning Rate: 0.01, Regularization Constant: 1\n",
      "Train Loss: 0.5546195900049212, Test Loss: 0.5527339607327266\n",
      "Learning Rate: 0.05, Regularization Constant: 0.01\n",
      "Train Loss: 0.3366088131976438, Test Loss: 0.33279799975409735\n",
      "Learning Rate: 0.05, Regularization Constant: 0.1\n",
      "Train Loss: 0.3366244132970638, Test Loss: 0.33287526647742616\n",
      "Learning Rate: 0.05, Regularization Constant: 1\n",
      "Train Loss: 0.3367803468093764, Test Loss: 0.3336474816130688\n",
      "Learning Rate: 0.1, Regularization Constant: 0.01\n",
      "Train Loss: 0.25272727021240754, Test Loss: 0.2489795972659286\n",
      "Learning Rate: 0.1, Regularization Constant: 0.1\n",
      "Train Loss: 0.25275999190516324, Test Loss: 0.24915037282627076\n",
      "Learning Rate: 0.1, Regularization Constant: 1\n",
      "Train Loss: 0.2530869276901948, Test Loss: 0.2508561648108083\n"
     ]
    },
    {
     "data": {
      "image/png": "[encoded data removed]",
      "text/plain": [
       "<Figure size 1200x800 with 1 Axes>"
      ]
     },
     "metadata": {},
     "output_type": "display_data"
    }
   ],
   "source": [
    "learning_rates = [0.01, 0.05, 0.1]\n",
    "reg_constants = [0.01, 0.1, 1]\n",
    "\n",
    "# Initialize a subplot for the loss history plot\n",
    "plt.figure(figsize=(12, 8))\n",
    "\n",
    "for lr in learning_rates:\n",
    "    for reg in reg_constants:\n",
    "        \n",
    "        theta, train_loss_history = fit(X_train, y_train, regLambda=reg, alpha=lr)\n",
    "        \n",
    "        train_predictions = predict(X_train, theta)\n",
    "        test_predictions = predict(X_test, theta)\n",
    "        \n",
    "        train_loss = computeCost(theta,X_train, y_train, reg)\n",
    "        test_loss = computeCost(theta ,X_test, y_test, reg)\n",
    "        \n",
    "        plt.plot(train_loss_history, label=f\"lr={lr}, reg={reg}\")\n",
    "        \n",
    "        print(f\"Learning Rate: {lr}, Regularization Constant: {reg}\")\n",
    "        print(f\"Train Loss: {train_loss}, Test Loss: {test_loss}\")\n",
    "\n",
    "plt.xlabel('Iteration')\n",
    "plt.ylabel('Loss')\n",
    "plt.title('Loss History for Different Learning Rates and Regularization Constants')\n",
    "plt.legend()\n",
    "plt.show()"
   ]
  },
  {
   "cell_type": "code",
   "execution_count": 92,
   "id": "cd8fe175",
   "metadata": {},
   "outputs": [],
   "source": [
    "import warnings\n",
    "warnings.filterwarnings(\"ignore\")\n"
   ]
  },
  {
   "cell_type": "markdown",
   "id": "11babf15",
   "metadata": {},
   "source": [
    "## Naive Bayes\n",
    "\n",
    "In this part, you will use the `GaussianNB` classifier to classify the data. You should not change the default parameters of this classifier. First, train the classifier on the training set and then find the accuracy of it on the test set.\n",
    "\n",
    "**Question**: What is the accuracy of this method on test set?\n",
    "\n",
    "**Answer**: The Accuracy is **92.32%**"
   ]
  },
  {
   "cell_type": "code",
   "execution_count": 11,
   "id": "1ef450fb",
   "metadata": {},
   "outputs": [
    {
     "name": "stdout",
     "output_type": "stream",
     "text": [
      "Accuracy of Gaussian Naive Bayes classifier on test set: 0.9232323232323232\n"
     ]
    }
   ],
   "source": [
    "Naive_Bayes_classifier = GaussianNB()\n",
    "\n",
    "Naive_Bayes_classifier.fit(X_train, y_train)\n",
    "\n",
    "y_pred = Naive_Bayes_classifier.predict(X_test)\n",
    "\n",
    "accuracy = accuracy_score(y_test, y_pred)\n",
    "print(\"Accuracy of Gaussian Naive Bayes classifier on test set:\", accuracy)"
   ]
  },
  {
   "cell_type": "markdown",
   "id": "b371657d",
   "metadata": {},
   "source": [
    "## LDA (Linear Discriminant Analysis)\n",
    "\n",
    "In this part, you will use the `LinearDiscriminantAnalysis` classifier to classify the data. You should not change the default parameters of this classifier. First, train the classifier on the training set and then find the accuracy of it on the test set.\n",
    "\n",
    "**Question**: What is the accuracy of this method on test set?\n",
    "\n",
    "**Answer**: The Accuracy is **96.56%**"
   ]
  },
  {
   "cell_type": "code",
   "execution_count": 12,
   "id": "92cc8743",
   "metadata": {},
   "outputs": [
    {
     "name": "stdout",
     "output_type": "stream",
     "text": [
      "Accuracy of Linear Discriminant Analysis classifier on test set: 0.9656565656565657\n"
     ]
    }
   ],
   "source": [
    "LDA_classifier = LinearDiscriminantAnalysis()\n",
    "\n",
    "LDA_classifier.fit(X_train, y_train)\n",
    "\n",
    "y_pred = LDA_classifier.predict(X_test)\n",
    "\n",
    "accuracy = accuracy_score(y_test, y_pred)\n",
    "print(\"Accuracy of Linear Discriminant Analysis classifier on test set:\", accuracy)"
   ]
  },
  {
   "cell_type": "markdown",
   "id": "47736bdf",
   "metadata": {},
   "source": [
    "## Conclution\n",
    "\n",
    "**Question**: What is the best method for classifying this dataset? What is the best accuracy on the test set?\n",
    "\n",
    "**Answer**: Acording to the above accuracies between LDA and Naive Bayes , LDA performs better . "
   ]
  }
 ],
 "metadata": {
  "kernelspec": {
   "display_name": "Python 3 (ipykernel)",
   "language": "python",
   "name": "python3"
  },
  "language_info": {
   "codemirror_mode": {
    "name": "ipython",
    "version": 3
   },
   "file_extension": ".py",
   "mimetype": "text/x-python",
   "name": "python",
   "nbconvert_exporter": "python",
   "pygments_lexer": "ipython3",
   "version": "3.11.5"
  }
 },
 "nbformat": 4,
 "nbformat_minor": 5
}
